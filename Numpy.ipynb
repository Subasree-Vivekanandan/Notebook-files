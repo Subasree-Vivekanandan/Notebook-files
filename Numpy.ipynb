{
 "cells": [
  {
   "cell_type": "markdown",
   "id": "9629a108",
   "metadata": {},
   "source": [
    "# Numpy exercises"
   ]
  },
  {
   "cell_type": "code",
   "execution_count": 1,
   "id": "4c43a223",
   "metadata": {},
   "outputs": [],
   "source": [
    "import numpy as np"
   ]
  },
  {
   "cell_type": "code",
   "execution_count": 6,
   "id": "bda22cc8",
   "metadata": {},
   "outputs": [
    {
     "data": {
      "text/plain": [
       "array([ 1, 24,  3,  4])"
      ]
     },
     "execution_count": 6,
     "metadata": {},
     "output_type": "execute_result"
    }
   ],
   "source": [
    "integer = np.array([1,24,3,4])\n",
    "integer"
   ]
  },
  {
   "cell_type": "code",
   "execution_count": 5,
   "id": "6c0b3d5b",
   "metadata": {},
   "outputs": [
    {
     "data": {
      "text/plain": [
       "dtype('int32')"
      ]
     },
     "execution_count": 5,
     "metadata": {},
     "output_type": "execute_result"
    }
   ],
   "source": [
    "integer.dtype"
   ]
  },
  {
   "cell_type": "code",
   "execution_count": 24,
   "id": "bb4d0e28",
   "metadata": {},
   "outputs": [
    {
     "data": {
      "text/plain": [
       "array([15, 24,  3,  4], dtype=int8)"
      ]
     },
     "execution_count": 24,
     "metadata": {},
     "output_type": "execute_result"
    }
   ],
   "source": [
    "smallint = np.array(integer,dtype=np.int8)\n",
    "smallint"
   ]
  },
  {
   "cell_type": "code",
   "execution_count": 25,
   "id": "2a64fe8c",
   "metadata": {},
   "outputs": [
    {
     "data": {
      "text/plain": [
       "16"
      ]
     },
     "execution_count": 25,
     "metadata": {},
     "output_type": "execute_result"
    }
   ],
   "source": [
    "integer.nbytes"
   ]
  },
  {
   "cell_type": "code",
   "execution_count": 26,
   "id": "748d88a9",
   "metadata": {},
   "outputs": [
    {
     "data": {
      "text/plain": [
       "4"
      ]
     },
     "execution_count": 26,
     "metadata": {},
     "output_type": "execute_result"
    }
   ],
   "source": [
    "smallint.nbytes"
   ]
  },
  {
   "cell_type": "code",
   "execution_count": 27,
   "id": "a4b7f595",
   "metadata": {},
   "outputs": [
    {
     "data": {
      "text/plain": [
       "15"
      ]
     },
     "execution_count": 27,
     "metadata": {},
     "output_type": "execute_result"
    }
   ],
   "source": [
    "integer[0]"
   ]
  },
  {
   "cell_type": "code",
   "execution_count": 28,
   "id": "977d48c7",
   "metadata": {},
   "outputs": [],
   "source": [
    "integer[0]=12"
   ]
  },
  {
   "cell_type": "code",
   "execution_count": 29,
   "id": "918ec2f6",
   "metadata": {},
   "outputs": [
    {
     "data": {
      "text/plain": [
       "array([12, 24,  3,  4])"
      ]
     },
     "execution_count": 29,
     "metadata": {},
     "output_type": "execute_result"
    }
   ],
   "source": [
    "integer"
   ]
  },
  {
   "cell_type": "code",
   "execution_count": 15,
   "id": "817484e3",
   "metadata": {},
   "outputs": [
    {
     "data": {
      "text/plain": [
       "array([15, 24,  3,  4])"
      ]
     },
     "execution_count": 15,
     "metadata": {},
     "output_type": "execute_result"
    }
   ],
   "source": [
    "integer[0]=15.5\n",
    "integer"
   ]
  },
  {
   "cell_type": "code",
   "execution_count": 17,
   "id": "f2552a53",
   "metadata": {},
   "outputs": [
    {
     "data": {
      "text/plain": [
       "array([1.2, 3.5, 6.2])"
      ]
     },
     "execution_count": 17,
     "metadata": {},
     "output_type": "execute_result"
    }
   ],
   "source": [
    "floating = np.array([1.2,3.5,6.2])\n",
    "floating"
   ]
  },
  {
   "cell_type": "code",
   "execution_count": 19,
   "id": "b00bf873",
   "metadata": {},
   "outputs": [
    {
     "data": {
      "text/plain": [
       "dtype('float64')"
      ]
     },
     "execution_count": 19,
     "metadata": {},
     "output_type": "execute_result"
    }
   ],
   "source": [
    "floating.dtype"
   ]
  },
  {
   "cell_type": "markdown",
   "id": "8ea49e12",
   "metadata": {},
   "source": [
    "# Multidimensional Arrays"
   ]
  },
  {
   "cell_type": "markdown",
   "id": "85f05e5b",
   "metadata": {},
   "source": [
    "# 2D Array"
   ]
  },
  {
   "cell_type": "code",
   "execution_count": 30,
   "id": "2224475d",
   "metadata": {},
   "outputs": [
    {
     "data": {
      "text/plain": [
       "array([[1, 2, 3],\n",
       "       [4, 5, 6]])"
      ]
     },
     "execution_count": 30,
     "metadata": {},
     "output_type": "execute_result"
    }
   ],
   "source": [
    "twod = np.array([[1,2,3],[4,5,6]])\n",
    "twod"
   ]
  },
  {
   "cell_type": "code",
   "execution_count": 35,
   "id": "ae6feb61",
   "metadata": {},
   "outputs": [
    {
     "data": {
      "text/plain": [
       "2"
      ]
     },
     "execution_count": 35,
     "metadata": {},
     "output_type": "execute_result"
    }
   ],
   "source": [
    "twod.ndim"
   ]
  },
  {
   "cell_type": "code",
   "execution_count": 38,
   "id": "95b0cc1e",
   "metadata": {},
   "outputs": [
    {
     "data": {
      "text/plain": [
       "1"
      ]
     },
     "execution_count": 38,
     "metadata": {},
     "output_type": "execute_result"
    }
   ],
   "source": [
    "twod[0,0]\n"
   ]
  },
  {
   "cell_type": "code",
   "execution_count": 37,
   "id": "64031648",
   "metadata": {},
   "outputs": [
    {
     "data": {
      "text/plain": [
       "6"
      ]
     },
     "execution_count": 37,
     "metadata": {},
     "output_type": "execute_result"
    }
   ],
   "source": [
    "twod[1,2]"
   ]
  },
  {
   "cell_type": "markdown",
   "id": "30e04355",
   "metadata": {},
   "source": [
    "# 3D Array - 2 (2D array)"
   ]
  },
  {
   "cell_type": "code",
   "execution_count": 34,
   "id": "0d06071b",
   "metadata": {},
   "outputs": [
    {
     "data": {
      "text/plain": [
       "array([[[ 1,  2,  3],\n",
       "        [ 4,  5,  6]],\n",
       "\n",
       "       [[ 7,  8,  9],\n",
       "        [10, 11, 12]]])"
      ]
     },
     "execution_count": 34,
     "metadata": {},
     "output_type": "execute_result"
    }
   ],
   "source": [
    "threed = np.array([[[1,2,3],[4,5,6]],[[7,8,9],[10,11,12]]])\n",
    "threed"
   ]
  },
  {
   "cell_type": "code",
   "execution_count": 39,
   "id": "bde0f31e",
   "metadata": {},
   "outputs": [
    {
     "data": {
      "text/plain": [
       "3"
      ]
     },
     "execution_count": 39,
     "metadata": {},
     "output_type": "execute_result"
    }
   ],
   "source": [
    "threed.ndim"
   ]
  },
  {
   "cell_type": "code",
   "execution_count": 43,
   "id": "048ae53d",
   "metadata": {},
   "outputs": [
    {
     "data": {
      "text/plain": [
       "1"
      ]
     },
     "execution_count": 43,
     "metadata": {},
     "output_type": "execute_result"
    }
   ],
   "source": [
    "threed[0,0,0]"
   ]
  },
  {
   "cell_type": "code",
   "execution_count": 44,
   "id": "ee7308d7",
   "metadata": {},
   "outputs": [
    {
     "data": {
      "text/plain": [
       "6"
      ]
     },
     "execution_count": 44,
     "metadata": {},
     "output_type": "execute_result"
    }
   ],
   "source": [
    "threed[0,1,2]"
   ]
  },
  {
   "cell_type": "code",
   "execution_count": 45,
   "id": "5a81da7e",
   "metadata": {},
   "outputs": [
    {
     "data": {
      "text/plain": [
       "7"
      ]
     },
     "execution_count": 45,
     "metadata": {},
     "output_type": "execute_result"
    }
   ],
   "source": [
    "threed[1,0,0]"
   ]
  },
  {
   "cell_type": "code",
   "execution_count": 46,
   "id": "8c523e1d",
   "metadata": {},
   "outputs": [
    {
     "data": {
      "text/plain": [
       "12"
      ]
     },
     "execution_count": 46,
     "metadata": {},
     "output_type": "execute_result"
    }
   ],
   "source": [
    "threed[1,1,2]"
   ]
  },
  {
   "cell_type": "code",
   "execution_count": 48,
   "id": "2191e6ef",
   "metadata": {},
   "outputs": [
    {
     "ename": "IndexError",
     "evalue": "index 2 is out of bounds for axis 0 with size 2",
     "output_type": "error",
     "traceback": [
      "\u001b[1;31m---------------------------------------------------------------------------\u001b[0m",
      "\u001b[1;31mIndexError\u001b[0m                                Traceback (most recent call last)",
      "Input \u001b[1;32mIn [48]\u001b[0m, in \u001b[0;36m<cell line: 1>\u001b[1;34m()\u001b[0m\n\u001b[1;32m----> 1\u001b[0m \u001b[43mthreed\u001b[49m\u001b[43m[\u001b[49m\u001b[38;5;241;43m2\u001b[39;49m\u001b[43m,\u001b[49m\u001b[38;5;241;43m9\u001b[39;49m\u001b[43m,\u001b[49m\u001b[38;5;241;43m1\u001b[39;49m\u001b[43m]\u001b[49m\n",
      "\u001b[1;31mIndexError\u001b[0m: index 2 is out of bounds for axis 0 with size 2"
     ]
    }
   ],
   "source": [
    "threed[2,9,1]"
   ]
  },
  {
   "cell_type": "markdown",
   "id": "bb566a07",
   "metadata": {},
   "source": [
    "# Creating Arrays from list"
   ]
  },
  {
   "cell_type": "code",
   "execution_count": 49,
   "id": "8392d986",
   "metadata": {},
   "outputs": [
    {
     "data": {
      "text/plain": [
       "array([1, 2, 3])"
      ]
     },
     "execution_count": 49,
     "metadata": {},
     "output_type": "execute_result"
    }
   ],
   "source": [
    "list1 =[1,2,3]\n",
    "arr1 = np.array(list1)\n",
    "arr1"
   ]
  },
  {
   "cell_type": "markdown",
   "id": "4a1f2e62",
   "metadata": {},
   "source": [
    "# Creating array from list containing numbers & strings \n",
    "\n",
    "All the elements gets converted into a string"
   ]
  },
  {
   "cell_type": "code",
   "execution_count": 57,
   "id": "bbb1d7d5",
   "metadata": {},
   "outputs": [
    {
     "data": {
      "text/plain": [
       "array(['1', 'suba', 'ruba', '2'], dtype='<U11')"
      ]
     },
     "execution_count": 57,
     "metadata": {},
     "output_type": "execute_result"
    }
   ],
   "source": [
    "list2 = [1,\"suba\",\"ruba\",2]\n",
    "arr2=np.array(list2)\n",
    "arr2"
   ]
  },
  {
   "cell_type": "code",
   "execution_count": 58,
   "id": "a4b548c7",
   "metadata": {},
   "outputs": [
    {
     "data": {
      "text/plain": [
       "dtype('<U11')"
      ]
     },
     "execution_count": 58,
     "metadata": {},
     "output_type": "execute_result"
    }
   ],
   "source": [
    "arr2.dtype"
   ]
  },
  {
   "cell_type": "markdown",
   "id": "28f95725",
   "metadata": {},
   "source": [
    "# Creating array from list containing numbers & strings \n",
    "\n",
    "All the elements gets converted into a string"
   ]
  },
  {
   "cell_type": "code",
   "execution_count": 55,
   "id": "e651a748",
   "metadata": {},
   "outputs": [
    {
     "data": {
      "text/plain": [
       "array([ 1.  ,  2.33, -1.55,  2.  ,  4.44,  3.  ,  5.  , 23.  ])"
      ]
     },
     "execution_count": 55,
     "metadata": {},
     "output_type": "execute_result"
    }
   ],
   "source": [
    "list3 =[1,2.33,-1.55,2,4.44,3,5,23]\n",
    "arr3=np.array(list3)\n",
    "arr3"
   ]
  },
  {
   "cell_type": "code",
   "execution_count": 56,
   "id": "a10ae707",
   "metadata": {},
   "outputs": [
    {
     "data": {
      "text/plain": [
       "dtype('float64')"
      ]
     },
     "execution_count": 56,
     "metadata": {},
     "output_type": "execute_result"
    }
   ],
   "source": [
    "arr3.dtype"
   ]
  },
  {
   "cell_type": "markdown",
   "id": "f29e414f",
   "metadata": {},
   "source": [
    "# Creating multidimensional array from list"
   ]
  },
  {
   "cell_type": "code",
   "execution_count": 59,
   "id": "d7c68465",
   "metadata": {},
   "outputs": [
    {
     "data": {
      "text/plain": [
       "array([[[ 1,  2,  3],\n",
       "        [ 4,  5,  6]],\n",
       "\n",
       "       [[ 7,  8,  9],\n",
       "        [10, 11, 12]]])"
      ]
     },
     "execution_count": 59,
     "metadata": {},
     "output_type": "execute_result"
    }
   ],
   "source": [
    "multlist = [[[1,2,3],[4,5,6]],[[7,8,9],[10,11,12]]]\n",
    "multarr = np.array(multlist)\n",
    "multarr"
   ]
  },
  {
   "cell_type": "markdown",
   "id": "d29f3846",
   "metadata": {},
   "source": [
    "# Creating array from tuple"
   ]
  },
  {
   "cell_type": "code",
   "execution_count": 60,
   "id": "b0156b22",
   "metadata": {},
   "outputs": [
    {
     "data": {
      "text/plain": [
       "array([1, 2, 3, 4])"
      ]
     },
     "execution_count": 60,
     "metadata": {},
     "output_type": "execute_result"
    }
   ],
   "source": [
    "tuple1 = (1,2,3,4)\n",
    "arrt1 = np.array(tuple1)\n",
    "arrt1"
   ]
  },
  {
   "cell_type": "code",
   "execution_count": 61,
   "id": "5707f5e2",
   "metadata": {},
   "outputs": [
    {
     "data": {
      "text/plain": [
       "dtype('int32')"
      ]
     },
     "execution_count": 61,
     "metadata": {},
     "output_type": "execute_result"
    }
   ],
   "source": [
    "arrt1.dtype"
   ]
  },
  {
   "cell_type": "markdown",
   "id": "ba9043c8",
   "metadata": {},
   "source": [
    "# Creating arrays from tuples containing numbers & strings"
   ]
  },
  {
   "cell_type": "code",
   "execution_count": 62,
   "id": "cf354692",
   "metadata": {},
   "outputs": [
    {
     "data": {
      "text/plain": [
       "array(['1', 'suba'], dtype='<U11')"
      ]
     },
     "execution_count": 62,
     "metadata": {},
     "output_type": "execute_result"
    }
   ],
   "source": [
    "tuple2=(1,\"suba\")\n",
    "arrt2 =np.array(tuple2)\n",
    "arrt2"
   ]
  },
  {
   "cell_type": "code",
   "execution_count": 63,
   "id": "0f7103dd",
   "metadata": {},
   "outputs": [
    {
     "data": {
      "text/plain": [
       "dtype('<U11')"
      ]
     },
     "execution_count": 63,
     "metadata": {},
     "output_type": "execute_result"
    }
   ],
   "source": [
    "arrt2.dtype"
   ]
  },
  {
   "cell_type": "markdown",
   "id": "c72d7ee7",
   "metadata": {},
   "source": [
    "# CREATING ARRAYS USING NUMPY FUNCTIONS"
   ]
  },
  {
   "cell_type": "markdown",
   "id": "8c9a65c2",
   "metadata": {},
   "source": [
    "# Intrinsic Numpy array creation"
   ]
  },
  {
   "cell_type": "markdown",
   "id": "c8ca1b4c",
   "metadata": {},
   "source": [
    "# Integer array using arange"
   ]
  },
  {
   "cell_type": "code",
   "execution_count": 64,
   "id": "cea5ae01",
   "metadata": {},
   "outputs": [
    {
     "data": {
      "text/plain": [
       "array([0, 1, 2, 3, 4, 5, 6, 7, 8, 9])"
      ]
     },
     "execution_count": 64,
     "metadata": {},
     "output_type": "execute_result"
    }
   ],
   "source": [
    "int1 = np.arange(10)\n",
    "int1"
   ]
  },
  {
   "cell_type": "code",
   "execution_count": 65,
   "id": "78b4a0c6",
   "metadata": {},
   "outputs": [
    {
     "data": {
      "text/plain": [
       "array([2, 3, 4, 5, 6, 7, 8, 9])"
      ]
     },
     "execution_count": 65,
     "metadata": {},
     "output_type": "execute_result"
    }
   ],
   "source": [
    "int2 = np.arange(2,10)\n",
    "int2"
   ]
  },
  {
   "cell_type": "markdown",
   "id": "fe55bfbe",
   "metadata": {},
   "source": [
    "# The third parameter STEP used to skip elements by STEP times"
   ]
  },
  {
   "cell_type": "markdown",
   "id": "80a27990",
   "metadata": {},
   "source": [
    "## Printing even elements between 2 to 10"
   ]
  },
  {
   "cell_type": "code",
   "execution_count": 66,
   "id": "6fbb01db",
   "metadata": {},
   "outputs": [
    {
     "data": {
      "text/plain": [
       "array([2, 4, 6, 8])"
      ]
     },
     "execution_count": 66,
     "metadata": {},
     "output_type": "execute_result"
    }
   ],
   "source": [
    "int3 = np.arange(2,10,2)\n",
    "int3"
   ]
  },
  {
   "cell_type": "markdown",
   "id": "fa1970cc",
   "metadata": {},
   "source": [
    "# Creating floating point array using linspace"
   ]
  },
  {
   "cell_type": "markdown",
   "id": "6417c586",
   "metadata": {},
   "source": [
    "## The third parameter SPLIT used to split the array to SPLIT times"
   ]
  },
  {
   "cell_type": "code",
   "execution_count": 69,
   "id": "571b3f5c",
   "metadata": {},
   "outputs": [
    {
     "data": {
      "text/plain": [
       "array([10., 15., 20., 25., 30.])"
      ]
     },
     "execution_count": 69,
     "metadata": {},
     "output_type": "execute_result"
    }
   ],
   "source": [
    "float1 =np.linspace(10,30,5)\n",
    "float1"
   ]
  },
  {
   "cell_type": "markdown",
   "id": "5876db0f",
   "metadata": {},
   "source": [
    "# Creating array with random integers using ranint"
   ]
  },
  {
   "cell_type": "code",
   "execution_count": 71,
   "id": "57507084",
   "metadata": {},
   "outputs": [
    {
     "data": {
      "text/plain": [
       "array([ 5, 14, 18,  6,  9])"
      ]
     },
     "execution_count": 71,
     "metadata": {},
     "output_type": "execute_result"
    }
   ],
   "source": [
    "ranint = np.random.randint(1,20,5)\n",
    "ranint"
   ]
  },
  {
   "cell_type": "markdown",
   "id": "d4be433a",
   "metadata": {},
   "source": [
    "# Creating array with random floating point numbers using rand"
   ]
  },
  {
   "cell_type": "markdown",
   "id": "9c2b2d18",
   "metadata": {},
   "source": [
    "## Parameters if 1 => specifies n number of elements between 0 to 1 (1D array)\n",
    "\n",
    "## if 2 => 2D array"
   ]
  },
  {
   "cell_type": "code",
   "execution_count": 73,
   "id": "3962c85b",
   "metadata": {},
   "outputs": [
    {
     "data": {
      "text/plain": [
       "array([0.95837615, 0.98948412, 0.20328007, 0.10807543, 0.44565942])"
      ]
     },
     "execution_count": 73,
     "metadata": {},
     "output_type": "execute_result"
    }
   ],
   "source": [
    "ranfloat = np.random.rand(5)\n",
    "ranfloat"
   ]
  },
  {
   "cell_type": "code",
   "execution_count": 77,
   "id": "6ad35079",
   "metadata": {},
   "outputs": [
    {
     "data": {
      "text/plain": [
       "array([[0.06560309, 0.07602412, 0.58571558],\n",
       "       [0.04221661, 0.30204636, 0.0022305 ],\n",
       "       [0.96394997, 0.4108598 , 0.33639528],\n",
       "       [0.25730637, 0.83011619, 0.55281034],\n",
       "       [0.14666625, 0.58112214, 0.07601877]])"
      ]
     },
     "execution_count": 77,
     "metadata": {},
     "output_type": "execute_result"
    }
   ],
   "source": [
    "ranfloat2d = np.random.rand(5,3)\n",
    "ranfloat2d"
   ]
  },
  {
   "cell_type": "markdown",
   "id": "1aa57ef7",
   "metadata": {},
   "source": [
    "# Creating arrays with constant values 0,1"
   ]
  },
  {
   "cell_type": "code",
   "execution_count": 4,
   "id": "0ea178c0",
   "metadata": {},
   "outputs": [],
   "source": [
    "import numpy as np"
   ]
  },
  {
   "cell_type": "code",
   "execution_count": 5,
   "id": "65a27253",
   "metadata": {},
   "outputs": [
    {
     "data": {
      "text/plain": [
       "array([0., 0., 0., 0., 0.])"
      ]
     },
     "execution_count": 5,
     "metadata": {},
     "output_type": "execute_result"
    }
   ],
   "source": [
    "arrzero =np.zeros(5)\n",
    "arrzero"
   ]
  },
  {
   "cell_type": "code",
   "execution_count": 6,
   "id": "a5f0c409",
   "metadata": {},
   "outputs": [
    {
     "data": {
      "text/plain": [
       "array([1., 1., 1., 1., 1., 1.])"
      ]
     },
     "execution_count": 6,
     "metadata": {},
     "output_type": "execute_result"
    }
   ],
   "source": [
    "arrones = np.ones(6)\n",
    "arrones"
   ]
  },
  {
   "cell_type": "code",
   "execution_count": 8,
   "id": "2ce7d7bc",
   "metadata": {},
   "outputs": [
    {
     "data": {
      "text/plain": [
       "array([[1, 1, 1, 1],\n",
       "       [1, 1, 1, 1],\n",
       "       [1, 1, 1, 1],\n",
       "       [1, 1, 1, 1],\n",
       "       [1, 1, 1, 1]])"
      ]
     },
     "execution_count": 8,
     "metadata": {},
     "output_type": "execute_result"
    }
   ],
   "source": [
    "oneint=np.ones((5,4),dtype=int)\n",
    "oneint"
   ]
  },
  {
   "cell_type": "markdown",
   "id": "97b85eb4",
   "metadata": {},
   "source": [
    "# Creating array with constant values (Any value)"
   ]
  },
  {
   "cell_type": "code",
   "execution_count": 13,
   "id": "5dafb94e",
   "metadata": {},
   "outputs": [
    {
     "data": {
      "text/plain": [
       "array([24, 24, 24, 24, 24, 24, 24, 24, 24, 24])"
      ]
     },
     "execution_count": 13,
     "metadata": {},
     "output_type": "execute_result"
    }
   ],
   "source": [
    "anyval = np.empty(10,dtype=int)\n",
    "anyval.fill(24)\n",
    "anyval"
   ]
  },
  {
   "cell_type": "code",
   "execution_count": 11,
   "id": "540c4d6b",
   "metadata": {},
   "outputs": [
    {
     "data": {
      "text/plain": [
       "array([[24, 24, 24, 24, 24],\n",
       "       [24, 24, 24, 24, 24],\n",
       "       [24, 24, 24, 24, 24],\n",
       "       [24, 24, 24, 24, 24]])"
      ]
     },
     "execution_count": 11,
     "metadata": {},
     "output_type": "execute_result"
    }
   ],
   "source": [
    "anyval2d = np.full((4,5),24)\n",
    "anyval2d\n"
   ]
  },
  {
   "cell_type": "code",
   "execution_count": 15,
   "id": "98082691",
   "metadata": {},
   "outputs": [
    {
     "data": {
      "text/plain": [
       "array([[25, 25, 25, 25, 25],\n",
       "       [25, 25, 25, 25, 25],\n",
       "       [25, 25, 25, 25, 25],\n",
       "       [25, 25, 25, 25, 25]])"
      ]
     },
     "execution_count": 15,
     "metadata": {},
     "output_type": "execute_result"
    }
   ],
   "source": [
    "full1d = np.full((4,5),25)\n",
    "full1d"
   ]
  },
  {
   "cell_type": "code",
   "execution_count": 18,
   "id": "89c11b4e",
   "metadata": {},
   "outputs": [
    {
     "data": {
      "text/plain": [
       "array([[1, 4],\n",
       "       [3, 5],\n",
       "       [5, 7]])"
      ]
     },
     "execution_count": 18,
     "metadata": {},
     "output_type": "execute_result"
    }
   ],
   "source": [
    "lin = np.linspace((1,4),(5,7),3,dtype=int)\n",
    "lin"
   ]
  },
  {
   "cell_type": "markdown",
   "id": "c51bcacf",
   "metadata": {},
   "source": [
    "# Shape returns no of elements in each dimension of an array"
   ]
  },
  {
   "cell_type": "markdown",
   "id": "ad92bf01",
   "metadata": {},
   "source": [
    "# Size returns total no of elements in an array"
   ]
  },
  {
   "cell_type": "code",
   "execution_count": 19,
   "id": "3195e0c6",
   "metadata": {},
   "outputs": [
    {
     "data": {
      "text/plain": [
       "array([ 0,  1,  2,  3,  4,  5,  6,  7,  8,  9, 10, 11, 12, 13, 14, 15, 16,\n",
       "       17, 18, 19])"
      ]
     },
     "execution_count": 19,
     "metadata": {},
     "output_type": "execute_result"
    }
   ],
   "source": [
    "ar1d = np.arange(0,20)\n",
    "ar1d"
   ]
  },
  {
   "cell_type": "code",
   "execution_count": 49,
   "id": "5d359d47",
   "metadata": {},
   "outputs": [
    {
     "data": {
      "text/plain": [
       "array([[1.  , 4.  , 2.  ],\n",
       "       [1.5 , 3.5 , 2.25],\n",
       "       [2.  , 3.  , 2.5 ],\n",
       "       [2.5 , 2.5 , 2.75],\n",
       "       [3.  , 2.  , 3.  ]])"
      ]
     },
     "execution_count": 49,
     "metadata": {},
     "output_type": "execute_result"
    }
   ],
   "source": [
    "ar2d = np.linspace((1,4,2),(3,2,3),5)\n",
    "ar2d"
   ]
  },
  {
   "cell_type": "code",
   "execution_count": 50,
   "id": "dff5ff84",
   "metadata": {},
   "outputs": [
    {
     "data": {
      "text/plain": [
       "2"
      ]
     },
     "execution_count": 50,
     "metadata": {},
     "output_type": "execute_result"
    }
   ],
   "source": [
    "ar2d.ndim"
   ]
  },
  {
   "cell_type": "code",
   "execution_count": 29,
   "id": "30bf013d",
   "metadata": {},
   "outputs": [
    {
     "data": {
      "text/plain": [
       "array([[[4, 4],\n",
       "        [4, 4],\n",
       "        [4, 4]],\n",
       "\n",
       "       [[4, 4],\n",
       "        [4, 4],\n",
       "        [4, 4]]])"
      ]
     },
     "execution_count": 29,
     "metadata": {},
     "output_type": "execute_result"
    }
   ],
   "source": [
    "ar3d = np.full((2,3,2),4)\n",
    "ar3d"
   ]
  },
  {
   "cell_type": "code",
   "execution_count": 39,
   "id": "badca27c",
   "metadata": {},
   "outputs": [
    {
     "data": {
      "text/plain": [
       "(20,)"
      ]
     },
     "execution_count": 39,
     "metadata": {},
     "output_type": "execute_result"
    }
   ],
   "source": [
    "np.shape(ar1d)"
   ]
  },
  {
   "cell_type": "code",
   "execution_count": 33,
   "id": "68cdd9de",
   "metadata": {},
   "outputs": [
    {
     "data": {
      "text/plain": [
       "(5, 3)"
      ]
     },
     "execution_count": 33,
     "metadata": {},
     "output_type": "execute_result"
    }
   ],
   "source": [
    "ar2d.shape"
   ]
  },
  {
   "cell_type": "code",
   "execution_count": 34,
   "id": "b41d8eb2",
   "metadata": {},
   "outputs": [
    {
     "data": {
      "text/plain": [
       "(2, 3, 2)"
      ]
     },
     "execution_count": 34,
     "metadata": {},
     "output_type": "execute_result"
    }
   ],
   "source": [
    "ar3d.shape"
   ]
  },
  {
   "cell_type": "markdown",
   "id": "5649b51d",
   "metadata": {},
   "source": [
    "# SIZE"
   ]
  },
  {
   "cell_type": "code",
   "execution_count": 35,
   "id": "55688cf8",
   "metadata": {},
   "outputs": [
    {
     "data": {
      "text/plain": [
       "20"
      ]
     },
     "execution_count": 35,
     "metadata": {},
     "output_type": "execute_result"
    }
   ],
   "source": [
    "ar1d.size"
   ]
  },
  {
   "cell_type": "code",
   "execution_count": 36,
   "id": "0288f444",
   "metadata": {},
   "outputs": [
    {
     "data": {
      "text/plain": [
       "15"
      ]
     },
     "execution_count": 36,
     "metadata": {},
     "output_type": "execute_result"
    }
   ],
   "source": [
    "ar2d.size"
   ]
  },
  {
   "cell_type": "code",
   "execution_count": 38,
   "id": "a5f973a7",
   "metadata": {},
   "outputs": [
    {
     "data": {
      "text/plain": [
       "12"
      ]
     },
     "execution_count": 38,
     "metadata": {},
     "output_type": "execute_result"
    }
   ],
   "source": [
    "np.size(ar3d)"
   ]
  },
  {
   "cell_type": "markdown",
   "id": "e8c3138a",
   "metadata": {},
   "source": [
    "# Adding, Removing and Sorting elements"
   ]
  },
  {
   "cell_type": "markdown",
   "id": "e4dc47c7",
   "metadata": {},
   "source": [
    "## ADD using Insert,Append"
   ]
  },
  {
   "cell_type": "code",
   "execution_count": 2,
   "id": "51b52f17",
   "metadata": {},
   "outputs": [],
   "source": [
    "import numpy as np"
   ]
  },
  {
   "cell_type": "code",
   "execution_count": 4,
   "id": "e87a9aa6",
   "metadata": {},
   "outputs": [
    {
     "data": {
      "text/plain": [
       "array([12, 15,  3,  9, 18])"
      ]
     },
     "execution_count": 4,
     "metadata": {},
     "output_type": "execute_result"
    }
   ],
   "source": [
    "insar = np.random.randint(2,20,5)\n",
    "insar"
   ]
  },
  {
   "cell_type": "code",
   "execution_count": 5,
   "id": "058c775b",
   "metadata": {},
   "outputs": [
    {
     "data": {
      "text/plain": [
       "array([12, 15,  3, 24,  9, 18])"
      ]
     },
     "execution_count": 5,
     "metadata": {},
     "output_type": "execute_result"
    }
   ],
   "source": [
    "np.insert(insar,3,24)\n"
   ]
  },
  {
   "cell_type": "code",
   "execution_count": 6,
   "id": "fac7c5f6",
   "metadata": {},
   "outputs": [
    {
     "data": {
      "text/plain": [
       "array([12, 15,  3,  9, 18, 30])"
      ]
     },
     "execution_count": 6,
     "metadata": {},
     "output_type": "execute_result"
    }
   ],
   "source": [
    "np.append(insar,30)"
   ]
  },
  {
   "cell_type": "markdown",
   "id": "2d625ae2",
   "metadata": {},
   "source": [
    "# Deleting element from an array"
   ]
  },
  {
   "cell_type": "code",
   "execution_count": 8,
   "id": "b67e9c89",
   "metadata": {},
   "outputs": [
    {
     "data": {
      "text/plain": [
       "array([15, 23, 18, 21, 24])"
      ]
     },
     "execution_count": 8,
     "metadata": {},
     "output_type": "execute_result"
    }
   ],
   "source": [
    "delar = np.random.randint(10,30,5)\n",
    "delar"
   ]
  },
  {
   "cell_type": "code",
   "execution_count": 10,
   "id": "06c3ccd6",
   "metadata": {},
   "outputs": [
    {
     "data": {
      "text/plain": [
       "array([23, 18, 21, 24])"
      ]
     },
     "execution_count": 10,
     "metadata": {},
     "output_type": "execute_result"
    }
   ],
   "source": [
    "np.delete(delar,0)"
   ]
  },
  {
   "cell_type": "markdown",
   "id": "7c4e42fc",
   "metadata": {},
   "source": [
    "# Sorting elements in an array"
   ]
  },
  {
   "cell_type": "code",
   "execution_count": 11,
   "id": "c8f201f4",
   "metadata": {},
   "outputs": [
    {
     "data": {
      "text/plain": [
       "array([36, 20, 22, 26, 25, 38, 34, 39, 26, 39])"
      ]
     },
     "execution_count": 11,
     "metadata": {},
     "output_type": "execute_result"
    }
   ],
   "source": [
    "sorar = np.random.randint(20,40,10)\n",
    "sorar"
   ]
  },
  {
   "cell_type": "code",
   "execution_count": 12,
   "id": "0bb055aa",
   "metadata": {},
   "outputs": [
    {
     "data": {
      "text/plain": [
       "array([20, 22, 25, 26, 26, 34, 36, 38, 39, 39])"
      ]
     },
     "execution_count": 12,
     "metadata": {},
     "output_type": "execute_result"
    }
   ],
   "source": [
    "np.sort(sorar)"
   ]
  },
  {
   "cell_type": "code",
   "execution_count": 16,
   "id": "82c3a0e6",
   "metadata": {},
   "outputs": [
    {
     "data": {
      "text/plain": [
       "array([[34, 12,  0],\n",
       "       [ 7,  1,  5]])"
      ]
     },
     "execution_count": 16,
     "metadata": {},
     "output_type": "execute_result"
    }
   ],
   "source": [
    "arr2d = np.array([[34,12,0],[7,1,5]])\n",
    "arr2d"
   ]
  },
  {
   "cell_type": "code",
   "execution_count": 17,
   "id": "f8e4d881",
   "metadata": {},
   "outputs": [
    {
     "data": {
      "text/plain": [
       "array([[ 0, 12, 34],\n",
       "       [ 1,  5,  7]])"
      ]
     },
     "execution_count": 17,
     "metadata": {},
     "output_type": "execute_result"
    }
   ],
   "source": [
    "np.sort(arr2d)"
   ]
  },
  {
   "cell_type": "markdown",
   "id": "2893ff3f",
   "metadata": {},
   "source": [
    "# Sorting strings in an array"
   ]
  },
  {
   "cell_type": "code",
   "execution_count": 13,
   "id": "f4c3bca7",
   "metadata": {},
   "outputs": [
    {
     "data": {
      "text/plain": [
       "array(['suba', 'ruba', 'apple', 'cat', 'ball'], dtype='<U5')"
      ]
     },
     "execution_count": 13,
     "metadata": {},
     "output_type": "execute_result"
    }
   ],
   "source": [
    "strar = np.array([\"suba\",\"ruba\",\"apple\",\"cat\",\"ball\"])\n",
    "strar"
   ]
  },
  {
   "cell_type": "code",
   "execution_count": 14,
   "id": "5809d7ad",
   "metadata": {},
   "outputs": [
    {
     "data": {
      "text/plain": [
       "array(['apple', 'ball', 'cat', 'ruba', 'suba'], dtype='<U5')"
      ]
     },
     "execution_count": 14,
     "metadata": {},
     "output_type": "execute_result"
    }
   ],
   "source": [
    "np.sort(strar)"
   ]
  },
  {
   "cell_type": "markdown",
   "id": "0e100070",
   "metadata": {},
   "source": [
    "# Copies and Views"
   ]
  },
  {
   "cell_type": "code",
   "execution_count": 18,
   "id": "af0ffb0e",
   "metadata": {},
   "outputs": [
    {
     "data": {
      "text/plain": [
       "array([1, 2, 3, 4])"
      ]
     },
     "execution_count": 18,
     "metadata": {},
     "output_type": "execute_result"
    }
   ],
   "source": [
    "oriar = np.array([1,2,3,4])\n",
    "oriar"
   ]
  },
  {
   "cell_type": "code",
   "execution_count": 19,
   "id": "3758a9ab",
   "metadata": {},
   "outputs": [
    {
     "data": {
      "text/plain": [
       "array([1, 2, 3, 4])"
      ]
     },
     "execution_count": 19,
     "metadata": {},
     "output_type": "execute_result"
    }
   ],
   "source": [
    "newar = oriar\n",
    "newar"
   ]
  },
  {
   "cell_type": "code",
   "execution_count": 20,
   "id": "28f847d8",
   "metadata": {},
   "outputs": [
    {
     "name": "stdout",
     "output_type": "stream",
     "text": [
      "ori:  2594080114512\n",
      "new:  2594080114512\n"
     ]
    }
   ],
   "source": [
    "print(\"ori: \",id(oriar))\n",
    "print(\"new: \",id(newar))"
   ]
  },
  {
   "cell_type": "code",
   "execution_count": 21,
   "id": "d6f2e86c",
   "metadata": {},
   "outputs": [],
   "source": [
    "newar[0]=5\n"
   ]
  },
  {
   "cell_type": "code",
   "execution_count": 23,
   "id": "bd1af08d",
   "metadata": {},
   "outputs": [
    {
     "name": "stdout",
     "output_type": "stream",
     "text": [
      "ori:  [5 2 3 4]\n",
      "new:  [5 2 3 4]\n"
     ]
    }
   ],
   "source": [
    "print(\"ori: \",oriar)\n",
    "print(\"new: \",newar)"
   ]
  },
  {
   "cell_type": "markdown",
   "id": "b199f327",
   "metadata": {},
   "source": [
    "## Copy"
   ]
  },
  {
   "cell_type": "code",
   "execution_count": 24,
   "id": "2df177c4",
   "metadata": {},
   "outputs": [
    {
     "data": {
      "text/plain": [
       "array([5, 2, 3, 4])"
      ]
     },
     "execution_count": 24,
     "metadata": {},
     "output_type": "execute_result"
    }
   ],
   "source": [
    "newcpy=oriar.copy()\n",
    "newcpy"
   ]
  },
  {
   "cell_type": "code",
   "execution_count": 25,
   "id": "71333c89",
   "metadata": {},
   "outputs": [],
   "source": [
    "newcpy[0]=10"
   ]
  },
  {
   "cell_type": "code",
   "execution_count": 28,
   "id": "9b65b8ee",
   "metadata": {},
   "outputs": [
    {
     "name": "stdout",
     "output_type": "stream",
     "text": [
      "ori:  [5 2 3 4]\n",
      "new:  [10  2  3  4]\n"
     ]
    }
   ],
   "source": [
    "print(\"ori: \",oriar)\n",
    "print(\"new: \",newcpy)"
   ]
  },
  {
   "cell_type": "markdown",
   "id": "782172a2",
   "metadata": {},
   "source": [
    "## View"
   ]
  },
  {
   "cell_type": "code",
   "execution_count": 29,
   "id": "36576475",
   "metadata": {},
   "outputs": [
    {
     "data": {
      "text/plain": [
       "array([5, 2, 3, 4])"
      ]
     },
     "execution_count": 29,
     "metadata": {},
     "output_type": "execute_result"
    }
   ],
   "source": [
    "newvi =oriar.view()\n",
    "newvi"
   ]
  },
  {
   "cell_type": "code",
   "execution_count": 30,
   "id": "41255354",
   "metadata": {},
   "outputs": [],
   "source": [
    "newvi[0]=12"
   ]
  },
  {
   "cell_type": "code",
   "execution_count": 31,
   "id": "d5911540",
   "metadata": {},
   "outputs": [
    {
     "name": "stdout",
     "output_type": "stream",
     "text": [
      "ori:  [12  2  3  4]\n",
      "new:  [12  2  3  4]\n"
     ]
    }
   ],
   "source": [
    "print(\"ori: \",oriar)\n",
    "print(\"new: \",newvi)"
   ]
  },
  {
   "cell_type": "markdown",
   "id": "5136aec8",
   "metadata": {},
   "source": [
    "## Assignment"
   ]
  },
  {
   "cell_type": "code",
   "execution_count": 32,
   "id": "f9f69112",
   "metadata": {},
   "outputs": [
    {
     "data": {
      "text/plain": [
       "array([12,  2,  3,  4])"
      ]
     },
     "execution_count": 32,
     "metadata": {},
     "output_type": "execute_result"
    }
   ],
   "source": [
    "assar = oriar\n",
    "assar"
   ]
  },
  {
   "cell_type": "code",
   "execution_count": 33,
   "id": "ed5525c8",
   "metadata": {},
   "outputs": [],
   "source": [
    "assar[0]=15"
   ]
  },
  {
   "cell_type": "code",
   "execution_count": 34,
   "id": "bbcd034a",
   "metadata": {},
   "outputs": [
    {
     "name": "stdout",
     "output_type": "stream",
     "text": [
      "ori:  [15  2  3  4]\n",
      "newass:  [15  2  3  4]\n"
     ]
    }
   ],
   "source": [
    "print(\"ori: \",oriar)\n",
    "print(\"newass: \",assar)"
   ]
  },
  {
   "cell_type": "markdown",
   "id": "e5dfcb67",
   "metadata": {},
   "source": [
    "# Reshaping Arrays"
   ]
  },
  {
   "cell_type": "markdown",
   "id": "cf78533d",
   "metadata": {},
   "source": [
    "## Using Reshape (single to multidimension)"
   ]
  },
  {
   "cell_type": "code",
   "execution_count": 43,
   "id": "26de219b",
   "metadata": {},
   "outputs": [
    {
     "data": {
      "text/plain": [
       "array([ 0,  1,  2,  3,  4,  5,  6,  7,  8,  9, 10, 11])"
      ]
     },
     "execution_count": 43,
     "metadata": {},
     "output_type": "execute_result"
    }
   ],
   "source": [
    "ar1d = np.arange(0,12)\n",
    "ar1d"
   ]
  },
  {
   "cell_type": "code",
   "execution_count": 44,
   "id": "faf7f209",
   "metadata": {},
   "outputs": [
    {
     "data": {
      "text/plain": [
       "array([[ 0,  1,  2,  3],\n",
       "       [ 4,  5,  6,  7],\n",
       "       [ 8,  9, 10, 11]])"
      ]
     },
     "execution_count": 44,
     "metadata": {},
     "output_type": "execute_result"
    }
   ],
   "source": [
    "re2d=np.reshape(ar1d,(3,4))\n",
    "re2d"
   ]
  },
  {
   "cell_type": "code",
   "execution_count": 45,
   "id": "e0d614cd",
   "metadata": {},
   "outputs": [
    {
     "ename": "ValueError",
     "evalue": "cannot reshape array of size 12 into shape (3,3)",
     "output_type": "error",
     "traceback": [
      "\u001b[1;31m---------------------------------------------------------------------------\u001b[0m",
      "\u001b[1;31mValueError\u001b[0m                                Traceback (most recent call last)",
      "Input \u001b[1;32mIn [45]\u001b[0m, in \u001b[0;36m<cell line: 1>\u001b[1;34m()\u001b[0m\n\u001b[1;32m----> 1\u001b[0m re2derr\u001b[38;5;241m=\u001b[39m\u001b[43mnp\u001b[49m\u001b[38;5;241;43m.\u001b[39;49m\u001b[43mreshape\u001b[49m\u001b[43m(\u001b[49m\u001b[43mar1d\u001b[49m\u001b[43m,\u001b[49m\u001b[43m(\u001b[49m\u001b[38;5;241;43m3\u001b[39;49m\u001b[43m,\u001b[49m\u001b[38;5;241;43m3\u001b[39;49m\u001b[43m)\u001b[49m\u001b[43m)\u001b[49m\n\u001b[0;32m      2\u001b[0m re2derr\n",
      "File \u001b[1;32m<__array_function__ internals>:5\u001b[0m, in \u001b[0;36mreshape\u001b[1;34m(*args, **kwargs)\u001b[0m\n",
      "File \u001b[1;32mE:\\anaconda\\lib\\site-packages\\numpy\\core\\fromnumeric.py:298\u001b[0m, in \u001b[0;36mreshape\u001b[1;34m(a, newshape, order)\u001b[0m\n\u001b[0;32m    198\u001b[0m \u001b[38;5;129m@array_function_dispatch\u001b[39m(_reshape_dispatcher)\n\u001b[0;32m    199\u001b[0m \u001b[38;5;28;01mdef\u001b[39;00m \u001b[38;5;21mreshape\u001b[39m(a, newshape, order\u001b[38;5;241m=\u001b[39m\u001b[38;5;124m'\u001b[39m\u001b[38;5;124mC\u001b[39m\u001b[38;5;124m'\u001b[39m):\n\u001b[0;32m    200\u001b[0m     \u001b[38;5;124;03m\"\"\"\u001b[39;00m\n\u001b[0;32m    201\u001b[0m \u001b[38;5;124;03m    Gives a new shape to an array without changing its data.\u001b[39;00m\n\u001b[0;32m    202\u001b[0m \n\u001b[1;32m   (...)\u001b[0m\n\u001b[0;32m    296\u001b[0m \u001b[38;5;124;03m           [5, 6]])\u001b[39;00m\n\u001b[0;32m    297\u001b[0m \u001b[38;5;124;03m    \"\"\"\u001b[39;00m\n\u001b[1;32m--> 298\u001b[0m     \u001b[38;5;28;01mreturn\u001b[39;00m \u001b[43m_wrapfunc\u001b[49m\u001b[43m(\u001b[49m\u001b[43ma\u001b[49m\u001b[43m,\u001b[49m\u001b[43m \u001b[49m\u001b[38;5;124;43m'\u001b[39;49m\u001b[38;5;124;43mreshape\u001b[39;49m\u001b[38;5;124;43m'\u001b[39;49m\u001b[43m,\u001b[49m\u001b[43m \u001b[49m\u001b[43mnewshape\u001b[49m\u001b[43m,\u001b[49m\u001b[43m \u001b[49m\u001b[43morder\u001b[49m\u001b[38;5;241;43m=\u001b[39;49m\u001b[43morder\u001b[49m\u001b[43m)\u001b[49m\n",
      "File \u001b[1;32mE:\\anaconda\\lib\\site-packages\\numpy\\core\\fromnumeric.py:57\u001b[0m, in \u001b[0;36m_wrapfunc\u001b[1;34m(obj, method, *args, **kwds)\u001b[0m\n\u001b[0;32m     54\u001b[0m     \u001b[38;5;28;01mreturn\u001b[39;00m _wrapit(obj, method, \u001b[38;5;241m*\u001b[39margs, \u001b[38;5;241m*\u001b[39m\u001b[38;5;241m*\u001b[39mkwds)\n\u001b[0;32m     56\u001b[0m \u001b[38;5;28;01mtry\u001b[39;00m:\n\u001b[1;32m---> 57\u001b[0m     \u001b[38;5;28;01mreturn\u001b[39;00m bound(\u001b[38;5;241m*\u001b[39margs, \u001b[38;5;241m*\u001b[39m\u001b[38;5;241m*\u001b[39mkwds)\n\u001b[0;32m     58\u001b[0m \u001b[38;5;28;01mexcept\u001b[39;00m \u001b[38;5;167;01mTypeError\u001b[39;00m:\n\u001b[0;32m     59\u001b[0m     \u001b[38;5;66;03m# A TypeError occurs if the object does have such a method in its\u001b[39;00m\n\u001b[0;32m     60\u001b[0m     \u001b[38;5;66;03m# class, but its signature is not identical to that of NumPy's. This\u001b[39;00m\n\u001b[1;32m   (...)\u001b[0m\n\u001b[0;32m     64\u001b[0m     \u001b[38;5;66;03m# Call _wrapit from within the except clause to ensure a potential\u001b[39;00m\n\u001b[0;32m     65\u001b[0m     \u001b[38;5;66;03m# exception has a traceback chain.\u001b[39;00m\n\u001b[0;32m     66\u001b[0m     \u001b[38;5;28;01mreturn\u001b[39;00m _wrapit(obj, method, \u001b[38;5;241m*\u001b[39margs, \u001b[38;5;241m*\u001b[39m\u001b[38;5;241m*\u001b[39mkwds)\n",
      "\u001b[1;31mValueError\u001b[0m: cannot reshape array of size 12 into shape (3,3)"
     ]
    }
   ],
   "source": [
    "re2derr=np.reshape(ar1d,(3,3))\n",
    "re2derr"
   ]
  },
  {
   "cell_type": "code",
   "execution_count": 47,
   "id": "683c8a79",
   "metadata": {},
   "outputs": [
    {
     "data": {
      "text/plain": [
       "array([[[ 0,  1],\n",
       "        [ 2,  3]],\n",
       "\n",
       "       [[ 4,  5],\n",
       "        [ 6,  7]],\n",
       "\n",
       "       [[ 8,  9],\n",
       "        [10, 11]]])"
      ]
     },
     "execution_count": 47,
     "metadata": {},
     "output_type": "execute_result"
    }
   ],
   "source": [
    "re3d = np.reshape(ar1d,(3,2,2))\n",
    "re3d"
   ]
  },
  {
   "cell_type": "markdown",
   "id": "842d0161",
   "metadata": {},
   "source": [
    "## Using Reshape (multi dimension to single)"
   ]
  },
  {
   "cell_type": "code",
   "execution_count": 52,
   "id": "dd0a7cb3",
   "metadata": {},
   "outputs": [
    {
     "data": {
      "text/plain": [
       "array([[ 3,  9],\n",
       "       [ 4, 11],\n",
       "       [ 5, 13],\n",
       "       [ 7, 16]])"
      ]
     },
     "execution_count": 52,
     "metadata": {},
     "output_type": "execute_result"
    }
   ],
   "source": [
    "ar2d=np.linspace((3,9),(7,16),4,dtype=int)\n",
    "ar2d"
   ]
  },
  {
   "cell_type": "code",
   "execution_count": 54,
   "id": "8c9329cc",
   "metadata": {},
   "outputs": [
    {
     "data": {
      "text/plain": [
       "array([ 3,  9,  4, 11,  5, 13,  7, 16])"
      ]
     },
     "execution_count": 54,
     "metadata": {},
     "output_type": "execute_result"
    }
   ],
   "source": [
    "redar = np.reshape(ar2d,-1)\n",
    "redar"
   ]
  },
  {
   "cell_type": "code",
   "execution_count": 55,
   "id": "e322e29d",
   "metadata": {},
   "outputs": [
    {
     "name": "stdout",
     "output_type": "stream",
     "text": [
      "2\n",
      "1\n"
     ]
    }
   ],
   "source": [
    "print(ar2d.ndim)\n",
    "print(redar.ndim)"
   ]
  },
  {
   "cell_type": "markdown",
   "id": "f68dcb79",
   "metadata": {},
   "source": [
    "## Flattening using Flatten(create a copy) \n",
    "\n",
    "## Ravel(Creates a view - changes will be reflected to original array)"
   ]
  },
  {
   "cell_type": "code",
   "execution_count": 59,
   "id": "664b3571",
   "metadata": {},
   "outputs": [
    {
     "data": {
      "text/plain": [
       "array([[ 1,  5],\n",
       "       [ 2,  6],\n",
       "       [ 4,  8],\n",
       "       [ 6, 10]])"
      ]
     },
     "execution_count": 59,
     "metadata": {},
     "output_type": "execute_result"
    }
   ],
   "source": [
    "oar = np.linspace((1,5),(6,10),4,dtype=int)\n",
    "oar"
   ]
  },
  {
   "cell_type": "code",
   "execution_count": 63,
   "id": "91953549",
   "metadata": {},
   "outputs": [],
   "source": [
    "arflat = oar.flatten()\n",
    "arravel = oar.ravel()"
   ]
  },
  {
   "cell_type": "code",
   "execution_count": 64,
   "id": "9ad6488d",
   "metadata": {},
   "outputs": [
    {
     "name": "stdout",
     "output_type": "stream",
     "text": [
      "Flatten:  [ 1  5  2  6  4  8  6 10]\n",
      "Ravel:  [ 1  5  2  6  4  8  6 10]\n"
     ]
    }
   ],
   "source": [
    "print(\"Flatten: \",arflat)\n",
    "print(\"Ravel: \",arravel)"
   ]
  },
  {
   "cell_type": "code",
   "execution_count": 65,
   "id": "2b0a76e2",
   "metadata": {},
   "outputs": [
    {
     "name": "stdout",
     "output_type": "stream",
     "text": [
      "ori:  [[ 1  5]\n",
      " [ 2  6]\n",
      " [ 4  8]\n",
      " [ 6 10]]\n",
      "flatten:  [15  5  2  6  4  8  6 10]\n"
     ]
    }
   ],
   "source": [
    "arflat[0]=15\n",
    "print(\"ori: \",oar)\n",
    "print(\"flatten: \",arflat)"
   ]
  },
  {
   "cell_type": "code",
   "execution_count": 66,
   "id": "aa66e1e5",
   "metadata": {},
   "outputs": [
    {
     "name": "stdout",
     "output_type": "stream",
     "text": [
      "ori:  [[12  5]\n",
      " [ 2  6]\n",
      " [ 4  8]\n",
      " [ 6 10]]\n",
      "Ravel:  [12  5  2  6  4  8  6 10]\n"
     ]
    }
   ],
   "source": [
    "arravel[0]=12\n",
    "print(\"ori: \",oar)\n",
    "print(\"Ravel: \",arravel)"
   ]
  },
  {
   "cell_type": "markdown",
   "id": "e37dac67",
   "metadata": {},
   "source": [
    "# Indexing and Slicing"
   ]
  },
  {
   "cell_type": "code",
   "execution_count": 69,
   "id": "5d9a48df",
   "metadata": {},
   "outputs": [
    {
     "data": {
      "text/plain": [
       "array([0, 1, 2, 3, 4, 5, 6, 7, 8, 9])"
      ]
     },
     "execution_count": 69,
     "metadata": {},
     "output_type": "execute_result"
    }
   ],
   "source": [
    "inarr = np.arange(10)\n",
    "inarr"
   ]
  },
  {
   "cell_type": "code",
   "execution_count": 87,
   "id": "0c9ddbd0",
   "metadata": {},
   "outputs": [
    {
     "data": {
      "text/plain": [
       "array([[[ 0,  1,  2],\n",
       "        [ 3,  4,  5],\n",
       "        [ 6,  7,  8],\n",
       "        [ 9, 10, 11]],\n",
       "\n",
       "       [[12, 13, 14],\n",
       "        [15, 16, 17],\n",
       "        [18, 19, 20],\n",
       "        [21, 22, 23]]])"
      ]
     },
     "execution_count": 87,
     "metadata": {},
     "output_type": "execute_result"
    }
   ],
   "source": [
    "arr3d = np.reshape(np.arange(2*4*3),(2,4,3))\n",
    "arr3d"
   ]
  },
  {
   "cell_type": "markdown",
   "id": "64746c89",
   "metadata": {},
   "source": [
    "# Slicing"
   ]
  },
  {
   "cell_type": "code",
   "execution_count": 72,
   "id": "49c53a80",
   "metadata": {},
   "outputs": [
    {
     "name": "stdout",
     "output_type": "stream",
     "text": [
      "[1 2 3 4]\n",
      "[0 1 2 3 4 5 6 7 8 9]\n",
      "[3 4 5 6 7 8 9]\n",
      "[7 8 9]\n"
     ]
    }
   ],
   "source": [
    "print(inarr[1:5])\n",
    "print(inarr[:])\n",
    "print(inarr[3:])\n",
    "print(inarr[-3:])"
   ]
  },
  {
   "cell_type": "code",
   "execution_count": 75,
   "id": "a9fe88c6",
   "metadata": {},
   "outputs": [
    {
     "data": {
      "text/plain": [
       "array([[ 0,  1,  2,  3],\n",
       "       [ 4,  5,  6,  7],\n",
       "       [ 8,  9, 10, 11]])"
      ]
     },
     "execution_count": 75,
     "metadata": {},
     "output_type": "execute_result"
    }
   ],
   "source": [
    "in2d =np.reshape(np.arange(12),(3,4))\n",
    "in2d"
   ]
  },
  {
   "cell_type": "code",
   "execution_count": 82,
   "id": "8de06940",
   "metadata": {},
   "outputs": [
    {
     "name": "stdout",
     "output_type": "stream",
     "text": [
      "[[ 1  2  3]\n",
      " [ 5  6  7]\n",
      " [ 9 10 11]]\n",
      "\n",
      "\n",
      "[0 1 2 3]\n",
      "\n",
      "\n",
      "[1 5 9]\n"
     ]
    }
   ],
   "source": [
    "print(in2d[0:,1:])\n",
    "print(\"\\n\")\n",
    "print(in2d[0,0:])\n",
    "print(\"\\n\")\n",
    "print(in2d[0:,1])"
   ]
  },
  {
   "cell_type": "code",
   "execution_count": 93,
   "id": "5a770cba",
   "metadata": {},
   "outputs": [
    {
     "name": "stdout",
     "output_type": "stream",
     "text": [
      "[[ 4  5]\n",
      " [ 7  8]\n",
      " [10 11]]\n"
     ]
    }
   ],
   "source": [
    "print(arr3d[0,1:,1:])"
   ]
  },
  {
   "cell_type": "code",
   "execution_count": 94,
   "id": "651c6355",
   "metadata": {},
   "outputs": [
    {
     "name": "stdout",
     "output_type": "stream",
     "text": [
      "[14 17 20 23]\n"
     ]
    }
   ],
   "source": [
    "print(arr3d[1,0:,2])"
   ]
  },
  {
   "cell_type": "markdown",
   "id": "38d6bba4",
   "metadata": {},
   "source": [
    "# Indexing"
   ]
  },
  {
   "cell_type": "code",
   "execution_count": 84,
   "id": "cc1ed151",
   "metadata": {},
   "outputs": [
    {
     "name": "stdout",
     "output_type": "stream",
     "text": [
      "5\n",
      "[0 1 2 3]\n"
     ]
    }
   ],
   "source": [
    "print(inarr[5])\n",
    "print(in2d[0])"
   ]
  },
  {
   "cell_type": "code",
   "execution_count": 92,
   "id": "dc35f266",
   "metadata": {},
   "outputs": [
    {
     "name": "stdout",
     "output_type": "stream",
     "text": [
      "[[ 0  1  2]\n",
      " [ 3  4  5]\n",
      " [ 6  7  8]\n",
      " [ 9 10 11]]\n",
      "\n",
      "\n",
      "[3 4 5]\n"
     ]
    }
   ],
   "source": [
    "print(arr3d[0])\n",
    "print(\"\\n\")\n",
    "print(arr3d[0,1])"
   ]
  }
 ],
 "metadata": {
  "kernelspec": {
   "display_name": "Python 3 (ipykernel)",
   "language": "python",
   "name": "python3"
  },
  "language_info": {
   "codemirror_mode": {
    "name": "ipython",
    "version": 3
   },
   "file_extension": ".py",
   "mimetype": "text/x-python",
   "name": "python",
   "nbconvert_exporter": "python",
   "pygments_lexer": "ipython3",
   "version": "3.9.12"
  }
 },
 "nbformat": 4,
 "nbformat_minor": 5
}
