{
 "cells": [
  {
   "cell_type": "markdown",
   "id": "2aaee1a6",
   "metadata": {},
   "source": [
    "### This notebook was created to learn how to work with jupyter notebook \n",
    "\n",
    "\n",
    "1) In - specifies input\n",
    "\n",
    "\n",
    "2) Out - specifies if there is an output generated while running In\n",
    "\n",
    "\n",
    "3) To include heading select MARKDOWN instead of code\n",
    "\n",
    "\n",
    "4) TO move to another cell SHIFT+ENTER\n",
    "\n",
    "\n",
    "5) To change headline text use keyboard icon on top right and select the best\n",
    "\n",
    "\n",
    "6) Move a cell up or down using the arrows given\n"
   ]
  },
  {
   "cell_type": "code",
   "execution_count": 5,
   "id": "1c4606a8",
   "metadata": {},
   "outputs": [],
   "source": [
    "say =\"Hello world\""
   ]
  },
  {
   "cell_type": "code",
   "execution_count": 6,
   "id": "ba23bb65",
   "metadata": {},
   "outputs": [
    {
     "data": {
      "text/plain": [
       "'Hello world'"
      ]
     },
     "execution_count": 6,
     "metadata": {},
     "output_type": "execute_result"
    }
   ],
   "source": [
    "say"
   ]
  },
  {
   "cell_type": "markdown",
   "id": "46637049",
   "metadata": {},
   "source": [
    "### 2 Modes 1) EDIT MODE(GREEN) 2) COMMAND MODE(BLUE)"
   ]
  },
  {
   "cell_type": "markdown",
   "id": "267eed63",
   "metadata": {},
   "source": [
    "# Shortcuts"
   ]
  },
  {
   "cell_type": "markdown",
   "id": "af8e1b29",
   "metadata": {},
   "source": [
    "Ctrl + up arrow Go to first line of the cell\n",
    "\n",
    "\n",
    "Ctrl +/ add a comment\n",
    "\n",
    "\n",
    "Ctrl + Left arrow skip word by word\n",
    "\n",
    "\n",
    "Ctrl + Backspace delete word by word\n",
    "\n",
    "\n",
    "Shift + Enter , Alt + Enter -> move to next cell\n",
    "\n",
    "\n",
    "Ctrl + shift + - => split a cell into two\n",
    "\n",
    "\n",
    "Esc to switch to command mode\n",
    "\n",
    "m => markdown mode\n",
    "\n",
    "y => command mode\n",
    "\n",
    "Shift + cell => select multiple cells\n",
    "\n",
    "shift + m => merge cells\n",
    "\n",
    "0 => hide the output of a cell\n",
    "\n",
    "\n",
    "Esc + V => Insert cell below\n",
    "\n",
    "Esc + A => Insert cell above\n",
    "\n"
   ]
  },
  {
   "cell_type": "markdown",
   "id": "54418716",
   "metadata": {},
   "source": [
    "# Jupyter Magic Commands"
   ]
  },
  {
   "cell_type": "markdown",
   "id": "4bf90dcb",
   "metadata": {},
   "source": [
    "Similar to Bash"
   ]
  },
  {
   "cell_type": "markdown",
   "id": "8be2e698",
   "metadata": {},
   "source": [
    "# 1) LINE MAGIC"
   ]
  },
  {
   "cell_type": "markdown",
   "id": "3c6a1908",
   "metadata": {},
   "source": [
    "%load text.py => load a file into a cell"
   ]
  },
  {
   "cell_type": "markdown",
   "id": "af1437cc",
   "metadata": {},
   "source": [
    "%cat text.py => display contents"
   ]
  },
  {
   "cell_type": "markdown",
   "id": "d64dbd37",
   "metadata": {},
   "source": [
    "%run text.py => run code"
   ]
  },
  {
   "cell_type": "markdown",
   "id": "4265aaab",
   "metadata": {},
   "source": [
    "# 2) CELL MAGIC"
   ]
  },
  {
   "cell_type": "markdown",
   "id": "2407bb70",
   "metadata": {},
   "source": [
    "Writing something into a file so that we can use it later by importing the file using writefile command"
   ]
  },
  {
   "cell_type": "code",
   "execution_count": 11,
   "id": "836f6317",
   "metadata": {},
   "outputs": [
    {
     "name": "stdout",
     "output_type": "stream",
     "text": [
      "Overwriting newfilename.py\n"
     ]
    }
   ],
   "source": [
    "%%writefile newfilename.py \n",
    "def getmeanofcol(column):\n",
    "    return df[column].mean()"
   ]
  },
  {
   "cell_type": "markdown",
   "id": "161d0904",
   "metadata": {},
   "source": [
    "verify if the content has written into file using cat command"
   ]
  },
  {
   "cell_type": "markdown",
   "id": "594dff37",
   "metadata": {},
   "source": [
    "%cat newfilename.py"
   ]
  },
  {
   "cell_type": "markdown",
   "id": "747234cd",
   "metadata": {},
   "source": [
    "%%chart variablename\n",
    "\n",
    "\n",
    "run plotnum.py 2 4 5 6"
   ]
  },
  {
   "cell_type": "markdown",
   "id": "26076330",
   "metadata": {},
   "source": [
    "store the result in variable \"variablename\" => execute using variablename.show()"
   ]
  },
  {
   "cell_type": "markdown",
   "id": "5aebdabf",
   "metadata": {},
   "source": [
    "# Explore various magic commands using %lsmagic or %magic"
   ]
  },
  {
   "cell_type": "markdown",
   "id": "d8faeba3",
   "metadata": {},
   "source": [
    "# Export to html or pdf or slides via anaconda command prompt"
   ]
  },
  {
   "cell_type": "markdown",
   "id": "755ace20",
   "metadata": {},
   "source": [
    "jupyter nbconvert Sample.ipynb --to html\n",
    "\n",
    "jupyter nbconvert --to pdf Sample.ipynb\n",
    "\n",
    "jupyter nbconvert Sample.ipynb --to slides --post serve"
   ]
  },
  {
   "cell_type": "markdown",
   "id": "9c424d2d",
   "metadata": {},
   "source": [
    "Default location in C > Users > HP > Notebook files"
   ]
  },
  {
   "cell_type": "markdown",
   "id": "15e2692a",
   "metadata": {},
   "source": [
    "# SLIDESHOW"
   ]
  },
  {
   "cell_type": "markdown",
   "id": "368ae364",
   "metadata": {},
   "source": [
    "VIEW > CELL TOOLBAR > SLIDESHOW > SELECT SLIDE TYPE FOR EVERY CELL"
   ]
  }
 ],
 "metadata": {
  "celltoolbar": "Slideshow",
  "kernelspec": {
   "display_name": "Python 3 (ipykernel)",
   "language": "python",
   "name": "python3"
  },
  "language_info": {
   "codemirror_mode": {
    "name": "ipython",
    "version": 3
   },
   "file_extension": ".py",
   "mimetype": "text/x-python",
   "name": "python",
   "nbconvert_exporter": "python",
   "pygments_lexer": "ipython3",
   "version": "3.9.12"
  }
 },
 "nbformat": 4,
 "nbformat_minor": 5
}
