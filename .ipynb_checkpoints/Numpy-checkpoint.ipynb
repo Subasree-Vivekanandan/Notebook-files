{
 "cells": [
  {
   "cell_type": "markdown",
   "id": "9629a108",
   "metadata": {},
   "source": [
    "# Numpy exercises"
   ]
  },
  {
   "cell_type": "code",
   "execution_count": 1,
   "id": "4c43a223",
   "metadata": {},
   "outputs": [],
   "source": [
    "import numpy as np"
   ]
  },
  {
   "cell_type": "code",
   "execution_count": 6,
   "id": "bda22cc8",
   "metadata": {},
   "outputs": [
    {
     "data": {
      "text/plain": [
       "array([ 1, 24,  3,  4])"
      ]
     },
     "execution_count": 6,
     "metadata": {},
     "output_type": "execute_result"
    }
   ],
   "source": [
    "integer = np.array([1,24,3,4])\n",
    "integer"
   ]
  },
  {
   "cell_type": "code",
   "execution_count": 5,
   "id": "6c0b3d5b",
   "metadata": {},
   "outputs": [
    {
     "data": {
      "text/plain": [
       "dtype('int32')"
      ]
     },
     "execution_count": 5,
     "metadata": {},
     "output_type": "execute_result"
    }
   ],
   "source": [
    "integer.dtype"
   ]
  },
  {
   "cell_type": "code",
   "execution_count": 24,
   "id": "bb4d0e28",
   "metadata": {},
   "outputs": [
    {
     "data": {
      "text/plain": [
       "array([15, 24,  3,  4], dtype=int8)"
      ]
     },
     "execution_count": 24,
     "metadata": {},
     "output_type": "execute_result"
    }
   ],
   "source": [
    "smallint = np.array(integer,dtype=np.int8)\n",
    "smallint"
   ]
  },
  {
   "cell_type": "code",
   "execution_count": 25,
   "id": "2a64fe8c",
   "metadata": {},
   "outputs": [
    {
     "data": {
      "text/plain": [
       "16"
      ]
     },
     "execution_count": 25,
     "metadata": {},
     "output_type": "execute_result"
    }
   ],
   "source": [
    "integer.nbytes"
   ]
  },
  {
   "cell_type": "code",
   "execution_count": 26,
   "id": "748d88a9",
   "metadata": {},
   "outputs": [
    {
     "data": {
      "text/plain": [
       "4"
      ]
     },
     "execution_count": 26,
     "metadata": {},
     "output_type": "execute_result"
    }
   ],
   "source": [
    "smallint.nbytes"
   ]
  },
  {
   "cell_type": "code",
   "execution_count": 27,
   "id": "a4b7f595",
   "metadata": {},
   "outputs": [
    {
     "data": {
      "text/plain": [
       "15"
      ]
     },
     "execution_count": 27,
     "metadata": {},
     "output_type": "execute_result"
    }
   ],
   "source": [
    "integer[0]"
   ]
  },
  {
   "cell_type": "code",
   "execution_count": 28,
   "id": "977d48c7",
   "metadata": {},
   "outputs": [],
   "source": [
    "integer[0]=12"
   ]
  },
  {
   "cell_type": "code",
   "execution_count": 29,
   "id": "918ec2f6",
   "metadata": {},
   "outputs": [
    {
     "data": {
      "text/plain": [
       "array([12, 24,  3,  4])"
      ]
     },
     "execution_count": 29,
     "metadata": {},
     "output_type": "execute_result"
    }
   ],
   "source": [
    "integer"
   ]
  },
  {
   "cell_type": "code",
   "execution_count": 15,
   "id": "817484e3",
   "metadata": {},
   "outputs": [
    {
     "data": {
      "text/plain": [
       "array([15, 24,  3,  4])"
      ]
     },
     "execution_count": 15,
     "metadata": {},
     "output_type": "execute_result"
    }
   ],
   "source": [
    "integer[0]=15.5\n",
    "integer"
   ]
  },
  {
   "cell_type": "code",
   "execution_count": 17,
   "id": "f2552a53",
   "metadata": {},
   "outputs": [
    {
     "data": {
      "text/plain": [
       "array([1.2, 3.5, 6.2])"
      ]
     },
     "execution_count": 17,
     "metadata": {},
     "output_type": "execute_result"
    }
   ],
   "source": [
    "floating = np.array([1.2,3.5,6.2])\n",
    "floating"
   ]
  },
  {
   "cell_type": "code",
   "execution_count": 19,
   "id": "b00bf873",
   "metadata": {},
   "outputs": [
    {
     "data": {
      "text/plain": [
       "dtype('float64')"
      ]
     },
     "execution_count": 19,
     "metadata": {},
     "output_type": "execute_result"
    }
   ],
   "source": [
    "floating.dtype"
   ]
  },
  {
   "cell_type": "markdown",
   "id": "8ea49e12",
   "metadata": {},
   "source": [
    "# Multidimensional Arrays"
   ]
  },
  {
   "cell_type": "markdown",
   "id": "85f05e5b",
   "metadata": {},
   "source": [
    "# 2D Array"
   ]
  },
  {
   "cell_type": "code",
   "execution_count": 30,
   "id": "2224475d",
   "metadata": {},
   "outputs": [
    {
     "data": {
      "text/plain": [
       "array([[1, 2, 3],\n",
       "       [4, 5, 6]])"
      ]
     },
     "execution_count": 30,
     "metadata": {},
     "output_type": "execute_result"
    }
   ],
   "source": [
    "twod = np.array([[1,2,3],[4,5,6]])\n",
    "twod"
   ]
  },
  {
   "cell_type": "code",
   "execution_count": 35,
   "id": "ae6feb61",
   "metadata": {},
   "outputs": [
    {
     "data": {
      "text/plain": [
       "2"
      ]
     },
     "execution_count": 35,
     "metadata": {},
     "output_type": "execute_result"
    }
   ],
   "source": [
    "twod.ndim"
   ]
  },
  {
   "cell_type": "code",
   "execution_count": 38,
   "id": "95b0cc1e",
   "metadata": {},
   "outputs": [
    {
     "data": {
      "text/plain": [
       "1"
      ]
     },
     "execution_count": 38,
     "metadata": {},
     "output_type": "execute_result"
    }
   ],
   "source": [
    "twod[0,0]\n"
   ]
  },
  {
   "cell_type": "code",
   "execution_count": 37,
   "id": "64031648",
   "metadata": {},
   "outputs": [
    {
     "data": {
      "text/plain": [
       "6"
      ]
     },
     "execution_count": 37,
     "metadata": {},
     "output_type": "execute_result"
    }
   ],
   "source": [
    "twod[1,2]"
   ]
  },
  {
   "cell_type": "markdown",
   "id": "30e04355",
   "metadata": {},
   "source": [
    "# 3D Array - 2 (2D array)"
   ]
  },
  {
   "cell_type": "code",
   "execution_count": 34,
   "id": "0d06071b",
   "metadata": {},
   "outputs": [
    {
     "data": {
      "text/plain": [
       "array([[[ 1,  2,  3],\n",
       "        [ 4,  5,  6]],\n",
       "\n",
       "       [[ 7,  8,  9],\n",
       "        [10, 11, 12]]])"
      ]
     },
     "execution_count": 34,
     "metadata": {},
     "output_type": "execute_result"
    }
   ],
   "source": [
    "threed = np.array([[[1,2,3],[4,5,6]],[[7,8,9],[10,11,12]]])\n",
    "threed"
   ]
  },
  {
   "cell_type": "code",
   "execution_count": 39,
   "id": "bde0f31e",
   "metadata": {},
   "outputs": [
    {
     "data": {
      "text/plain": [
       "3"
      ]
     },
     "execution_count": 39,
     "metadata": {},
     "output_type": "execute_result"
    }
   ],
   "source": [
    "threed.ndim"
   ]
  },
  {
   "cell_type": "code",
   "execution_count": 43,
   "id": "048ae53d",
   "metadata": {},
   "outputs": [
    {
     "data": {
      "text/plain": [
       "1"
      ]
     },
     "execution_count": 43,
     "metadata": {},
     "output_type": "execute_result"
    }
   ],
   "source": [
    "threed[0,0,0]"
   ]
  },
  {
   "cell_type": "code",
   "execution_count": 44,
   "id": "ee7308d7",
   "metadata": {},
   "outputs": [
    {
     "data": {
      "text/plain": [
       "6"
      ]
     },
     "execution_count": 44,
     "metadata": {},
     "output_type": "execute_result"
    }
   ],
   "source": [
    "threed[0,1,2]"
   ]
  },
  {
   "cell_type": "code",
   "execution_count": 45,
   "id": "5a81da7e",
   "metadata": {},
   "outputs": [
    {
     "data": {
      "text/plain": [
       "7"
      ]
     },
     "execution_count": 45,
     "metadata": {},
     "output_type": "execute_result"
    }
   ],
   "source": [
    "threed[1,0,0]"
   ]
  },
  {
   "cell_type": "code",
   "execution_count": 46,
   "id": "8c523e1d",
   "metadata": {},
   "outputs": [
    {
     "data": {
      "text/plain": [
       "12"
      ]
     },
     "execution_count": 46,
     "metadata": {},
     "output_type": "execute_result"
    }
   ],
   "source": [
    "threed[1,1,2]"
   ]
  },
  {
   "cell_type": "code",
   "execution_count": 48,
   "id": "2191e6ef",
   "metadata": {},
   "outputs": [
    {
     "ename": "IndexError",
     "evalue": "index 2 is out of bounds for axis 0 with size 2",
     "output_type": "error",
     "traceback": [
      "\u001b[1;31m---------------------------------------------------------------------------\u001b[0m",
      "\u001b[1;31mIndexError\u001b[0m                                Traceback (most recent call last)",
      "Input \u001b[1;32mIn [48]\u001b[0m, in \u001b[0;36m<cell line: 1>\u001b[1;34m()\u001b[0m\n\u001b[1;32m----> 1\u001b[0m \u001b[43mthreed\u001b[49m\u001b[43m[\u001b[49m\u001b[38;5;241;43m2\u001b[39;49m\u001b[43m,\u001b[49m\u001b[38;5;241;43m9\u001b[39;49m\u001b[43m,\u001b[49m\u001b[38;5;241;43m1\u001b[39;49m\u001b[43m]\u001b[49m\n",
      "\u001b[1;31mIndexError\u001b[0m: index 2 is out of bounds for axis 0 with size 2"
     ]
    }
   ],
   "source": [
    "threed[2,9,1]"
   ]
  },
  {
   "cell_type": "markdown",
   "id": "bb566a07",
   "metadata": {},
   "source": [
    "# Creating Arrays from list"
   ]
  },
  {
   "cell_type": "code",
   "execution_count": 49,
   "id": "8392d986",
   "metadata": {},
   "outputs": [
    {
     "data": {
      "text/plain": [
       "array([1, 2, 3])"
      ]
     },
     "execution_count": 49,
     "metadata": {},
     "output_type": "execute_result"
    }
   ],
   "source": [
    "list1 =[1,2,3]\n",
    "arr1 = np.array(list1)\n",
    "arr1"
   ]
  },
  {
   "cell_type": "markdown",
   "id": "4a1f2e62",
   "metadata": {},
   "source": [
    "# Creating array from list containing numbers & strings \n",
    "\n",
    "All the elements gets converted into a string"
   ]
  },
  {
   "cell_type": "code",
   "execution_count": 57,
   "id": "bbb1d7d5",
   "metadata": {},
   "outputs": [
    {
     "data": {
      "text/plain": [
       "array(['1', 'suba', 'ruba', '2'], dtype='<U11')"
      ]
     },
     "execution_count": 57,
     "metadata": {},
     "output_type": "execute_result"
    }
   ],
   "source": [
    "list2 = [1,\"suba\",\"ruba\",2]\n",
    "arr2=np.array(list2)\n",
    "arr2"
   ]
  },
  {
   "cell_type": "code",
   "execution_count": 58,
   "id": "a4b548c7",
   "metadata": {},
   "outputs": [
    {
     "data": {
      "text/plain": [
       "dtype('<U11')"
      ]
     },
     "execution_count": 58,
     "metadata": {},
     "output_type": "execute_result"
    }
   ],
   "source": [
    "arr2.dtype"
   ]
  },
  {
   "cell_type": "markdown",
   "id": "28f95725",
   "metadata": {},
   "source": [
    "# Creating array from list containing numbers & strings \n",
    "\n",
    "All the elements gets converted into a string"
   ]
  },
  {
   "cell_type": "code",
   "execution_count": 55,
   "id": "e651a748",
   "metadata": {},
   "outputs": [
    {
     "data": {
      "text/plain": [
       "array([ 1.  ,  2.33, -1.55,  2.  ,  4.44,  3.  ,  5.  , 23.  ])"
      ]
     },
     "execution_count": 55,
     "metadata": {},
     "output_type": "execute_result"
    }
   ],
   "source": [
    "list3 =[1,2.33,-1.55,2,4.44,3,5,23]\n",
    "arr3=np.array(list3)\n",
    "arr3"
   ]
  },
  {
   "cell_type": "code",
   "execution_count": 56,
   "id": "a10ae707",
   "metadata": {},
   "outputs": [
    {
     "data": {
      "text/plain": [
       "dtype('float64')"
      ]
     },
     "execution_count": 56,
     "metadata": {},
     "output_type": "execute_result"
    }
   ],
   "source": [
    "arr3.dtype"
   ]
  },
  {
   "cell_type": "markdown",
   "id": "f29e414f",
   "metadata": {},
   "source": [
    "# Creating multidimensional array from list"
   ]
  },
  {
   "cell_type": "code",
   "execution_count": 59,
   "id": "d7c68465",
   "metadata": {},
   "outputs": [
    {
     "data": {
      "text/plain": [
       "array([[[ 1,  2,  3],\n",
       "        [ 4,  5,  6]],\n",
       "\n",
       "       [[ 7,  8,  9],\n",
       "        [10, 11, 12]]])"
      ]
     },
     "execution_count": 59,
     "metadata": {},
     "output_type": "execute_result"
    }
   ],
   "source": [
    "multlist = [[[1,2,3],[4,5,6]],[[7,8,9],[10,11,12]]]\n",
    "multarr = np.array(multlist)\n",
    "multarr"
   ]
  },
  {
   "cell_type": "markdown",
   "id": "d29f3846",
   "metadata": {},
   "source": [
    "# Creating array from tuple"
   ]
  },
  {
   "cell_type": "code",
   "execution_count": 60,
   "id": "b0156b22",
   "metadata": {},
   "outputs": [
    {
     "data": {
      "text/plain": [
       "array([1, 2, 3, 4])"
      ]
     },
     "execution_count": 60,
     "metadata": {},
     "output_type": "execute_result"
    }
   ],
   "source": [
    "tuple1 = (1,2,3,4)\n",
    "arrt1 = np.array(tuple1)\n",
    "arrt1"
   ]
  },
  {
   "cell_type": "code",
   "execution_count": 61,
   "id": "5707f5e2",
   "metadata": {},
   "outputs": [
    {
     "data": {
      "text/plain": [
       "dtype('int32')"
      ]
     },
     "execution_count": 61,
     "metadata": {},
     "output_type": "execute_result"
    }
   ],
   "source": [
    "arrt1.dtype"
   ]
  },
  {
   "cell_type": "markdown",
   "id": "ba9043c8",
   "metadata": {},
   "source": [
    "# Creating arrays from tuples containing numbers & strings"
   ]
  },
  {
   "cell_type": "code",
   "execution_count": 62,
   "id": "cf354692",
   "metadata": {},
   "outputs": [
    {
     "data": {
      "text/plain": [
       "array(['1', 'suba'], dtype='<U11')"
      ]
     },
     "execution_count": 62,
     "metadata": {},
     "output_type": "execute_result"
    }
   ],
   "source": [
    "tuple2=(1,\"suba\")\n",
    "arrt2 =np.array(tuple2)\n",
    "arrt2"
   ]
  },
  {
   "cell_type": "code",
   "execution_count": 63,
   "id": "0f7103dd",
   "metadata": {},
   "outputs": [
    {
     "data": {
      "text/plain": [
       "dtype('<U11')"
      ]
     },
     "execution_count": 63,
     "metadata": {},
     "output_type": "execute_result"
    }
   ],
   "source": [
    "arrt2.dtype"
   ]
  },
  {
   "cell_type": "markdown",
   "id": "c72d7ee7",
   "metadata": {},
   "source": [
    "# CREATING ARRAYS USING NUMPY FUNCTIONS"
   ]
  },
  {
   "cell_type": "markdown",
   "id": "8c9a65c2",
   "metadata": {},
   "source": [
    "# Intrinsic Numpy array creation"
   ]
  },
  {
   "cell_type": "markdown",
   "id": "c8ca1b4c",
   "metadata": {},
   "source": [
    "# Integer array using arange"
   ]
  },
  {
   "cell_type": "code",
   "execution_count": 64,
   "id": "cea5ae01",
   "metadata": {},
   "outputs": [
    {
     "data": {
      "text/plain": [
       "array([0, 1, 2, 3, 4, 5, 6, 7, 8, 9])"
      ]
     },
     "execution_count": 64,
     "metadata": {},
     "output_type": "execute_result"
    }
   ],
   "source": [
    "int1 = np.arange(10)\n",
    "int1"
   ]
  },
  {
   "cell_type": "code",
   "execution_count": 65,
   "id": "78b4a0c6",
   "metadata": {},
   "outputs": [
    {
     "data": {
      "text/plain": [
       "array([2, 3, 4, 5, 6, 7, 8, 9])"
      ]
     },
     "execution_count": 65,
     "metadata": {},
     "output_type": "execute_result"
    }
   ],
   "source": [
    "int2 = np.arange(2,10)\n",
    "int2"
   ]
  },
  {
   "cell_type": "markdown",
   "id": "fe55bfbe",
   "metadata": {},
   "source": [
    "# The third parameter STEP used to skip elements by STEP times"
   ]
  },
  {
   "cell_type": "markdown",
   "id": "80a27990",
   "metadata": {},
   "source": [
    "## Printing even elements between 2 to 10"
   ]
  },
  {
   "cell_type": "code",
   "execution_count": 66,
   "id": "6fbb01db",
   "metadata": {},
   "outputs": [
    {
     "data": {
      "text/plain": [
       "array([2, 4, 6, 8])"
      ]
     },
     "execution_count": 66,
     "metadata": {},
     "output_type": "execute_result"
    }
   ],
   "source": [
    "int3 = np.arange(2,10,2)\n",
    "int3"
   ]
  },
  {
   "cell_type": "markdown",
   "id": "fa1970cc",
   "metadata": {},
   "source": [
    "# Creating floating point array using linspace"
   ]
  },
  {
   "cell_type": "markdown",
   "id": "6417c586",
   "metadata": {},
   "source": [
    "## The third parameter SPLIT used to split the array to SPLIT times"
   ]
  },
  {
   "cell_type": "code",
   "execution_count": 69,
   "id": "571b3f5c",
   "metadata": {},
   "outputs": [
    {
     "data": {
      "text/plain": [
       "array([10., 15., 20., 25., 30.])"
      ]
     },
     "execution_count": 69,
     "metadata": {},
     "output_type": "execute_result"
    }
   ],
   "source": [
    "float1 =np.linspace(10,30,5)\n",
    "float1"
   ]
  },
  {
   "cell_type": "markdown",
   "id": "5876db0f",
   "metadata": {},
   "source": [
    "# Creating array with random integers using ranint"
   ]
  },
  {
   "cell_type": "code",
   "execution_count": 71,
   "id": "57507084",
   "metadata": {},
   "outputs": [
    {
     "data": {
      "text/plain": [
       "array([ 5, 14, 18,  6,  9])"
      ]
     },
     "execution_count": 71,
     "metadata": {},
     "output_type": "execute_result"
    }
   ],
   "source": [
    "ranint = np.random.randint(1,20,5)\n",
    "ranint"
   ]
  },
  {
   "cell_type": "markdown",
   "id": "d4be433a",
   "metadata": {},
   "source": [
    "# Creating array with random floating point numbers using rand"
   ]
  },
  {
   "cell_type": "markdown",
   "id": "9c2b2d18",
   "metadata": {},
   "source": [
    "## Parameters if 1 => specifies n number of elements between 0 to 1 (1D array)\n",
    "\n",
    "## if 2 => 2D array"
   ]
  },
  {
   "cell_type": "code",
   "execution_count": 73,
   "id": "3962c85b",
   "metadata": {},
   "outputs": [
    {
     "data": {
      "text/plain": [
       "array([0.95837615, 0.98948412, 0.20328007, 0.10807543, 0.44565942])"
      ]
     },
     "execution_count": 73,
     "metadata": {},
     "output_type": "execute_result"
    }
   ],
   "source": [
    "ranfloat = np.random.rand(5)\n",
    "ranfloat"
   ]
  },
  {
   "cell_type": "code",
   "execution_count": 77,
   "id": "6ad35079",
   "metadata": {},
   "outputs": [
    {
     "data": {
      "text/plain": [
       "array([[0.06560309, 0.07602412, 0.58571558],\n",
       "       [0.04221661, 0.30204636, 0.0022305 ],\n",
       "       [0.96394997, 0.4108598 , 0.33639528],\n",
       "       [0.25730637, 0.83011619, 0.55281034],\n",
       "       [0.14666625, 0.58112214, 0.07601877]])"
      ]
     },
     "execution_count": 77,
     "metadata": {},
     "output_type": "execute_result"
    }
   ],
   "source": [
    "ranfloat2d = np.random.rand(5,3)\n",
    "ranfloat2d"
   ]
  },
  {
   "cell_type": "markdown",
   "id": "1aa57ef7",
   "metadata": {},
   "source": [
    "# Creating arrays with constant values 0,1"
   ]
  },
  {
   "cell_type": "code",
   "execution_count": 4,
   "id": "0ea178c0",
   "metadata": {},
   "outputs": [],
   "source": [
    "import numpy as np"
   ]
  },
  {
   "cell_type": "code",
   "execution_count": 5,
   "id": "65a27253",
   "metadata": {},
   "outputs": [
    {
     "data": {
      "text/plain": [
       "array([0., 0., 0., 0., 0.])"
      ]
     },
     "execution_count": 5,
     "metadata": {},
     "output_type": "execute_result"
    }
   ],
   "source": [
    "arrzero =np.zeros(5)\n",
    "arrzero"
   ]
  },
  {
   "cell_type": "code",
   "execution_count": 6,
   "id": "a5f0c409",
   "metadata": {},
   "outputs": [
    {
     "data": {
      "text/plain": [
       "array([1., 1., 1., 1., 1., 1.])"
      ]
     },
     "execution_count": 6,
     "metadata": {},
     "output_type": "execute_result"
    }
   ],
   "source": [
    "arrones = np.ones(6)\n",
    "arrones"
   ]
  },
  {
   "cell_type": "code",
   "execution_count": 8,
   "id": "2ce7d7bc",
   "metadata": {},
   "outputs": [
    {
     "data": {
      "text/plain": [
       "array([[1, 1, 1, 1],\n",
       "       [1, 1, 1, 1],\n",
       "       [1, 1, 1, 1],\n",
       "       [1, 1, 1, 1],\n",
       "       [1, 1, 1, 1]])"
      ]
     },
     "execution_count": 8,
     "metadata": {},
     "output_type": "execute_result"
    }
   ],
   "source": [
    "oneint=np.ones((5,4),dtype=int)\n",
    "oneint"
   ]
  },
  {
   "cell_type": "markdown",
   "id": "97b85eb4",
   "metadata": {},
   "source": [
    "# Creating array with constant values (Any value)"
   ]
  },
  {
   "cell_type": "code",
   "execution_count": 13,
   "id": "5dafb94e",
   "metadata": {},
   "outputs": [
    {
     "data": {
      "text/plain": [
       "array([24, 24, 24, 24, 24, 24, 24, 24, 24, 24])"
      ]
     },
     "execution_count": 13,
     "metadata": {},
     "output_type": "execute_result"
    }
   ],
   "source": [
    "anyval = np.empty(10,dtype=int)\n",
    "anyval.fill(24)\n",
    "anyval"
   ]
  },
  {
   "cell_type": "code",
   "execution_count": 11,
   "id": "540c4d6b",
   "metadata": {},
   "outputs": [
    {
     "data": {
      "text/plain": [
       "array([[24, 24, 24, 24, 24],\n",
       "       [24, 24, 24, 24, 24],\n",
       "       [24, 24, 24, 24, 24],\n",
       "       [24, 24, 24, 24, 24]])"
      ]
     },
     "execution_count": 11,
     "metadata": {},
     "output_type": "execute_result"
    }
   ],
   "source": [
    "anyval2d = np.full((4,5),24)\n",
    "anyval2d\n"
   ]
  },
  {
   "cell_type": "code",
   "execution_count": 15,
   "id": "98082691",
   "metadata": {},
   "outputs": [
    {
     "data": {
      "text/plain": [
       "array([[25, 25, 25, 25, 25],\n",
       "       [25, 25, 25, 25, 25],\n",
       "       [25, 25, 25, 25, 25],\n",
       "       [25, 25, 25, 25, 25]])"
      ]
     },
     "execution_count": 15,
     "metadata": {},
     "output_type": "execute_result"
    }
   ],
   "source": [
    "full1d = np.full((4,5),25)\n",
    "full1d"
   ]
  },
  {
   "cell_type": "code",
   "execution_count": 18,
   "id": "89c11b4e",
   "metadata": {},
   "outputs": [
    {
     "data": {
      "text/plain": [
       "array([[1, 4],\n",
       "       [3, 5],\n",
       "       [5, 7]])"
      ]
     },
     "execution_count": 18,
     "metadata": {},
     "output_type": "execute_result"
    }
   ],
   "source": [
    "lin = np.linspace((1,4),(5,7),3,dtype=int)\n",
    "lin"
   ]
  },
  {
   "cell_type": "markdown",
   "id": "c51bcacf",
   "metadata": {},
   "source": [
    "# Shape returns no of elements in each dimension of an array"
   ]
  },
  {
   "cell_type": "markdown",
   "id": "ad92bf01",
   "metadata": {},
   "source": [
    "# Size returns total no of elements in an array"
   ]
  },
  {
   "cell_type": "code",
   "execution_count": 19,
   "id": "3195e0c6",
   "metadata": {},
   "outputs": [
    {
     "data": {
      "text/plain": [
       "array([ 0,  1,  2,  3,  4,  5,  6,  7,  8,  9, 10, 11, 12, 13, 14, 15, 16,\n",
       "       17, 18, 19])"
      ]
     },
     "execution_count": 19,
     "metadata": {},
     "output_type": "execute_result"
    }
   ],
   "source": [
    "ar1d = np.arange(0,20)\n",
    "ar1d"
   ]
  },
  {
   "cell_type": "code",
   "execution_count": 49,
   "id": "5d359d47",
   "metadata": {},
   "outputs": [
    {
     "data": {
      "text/plain": [
       "array([[1.  , 4.  , 2.  ],\n",
       "       [1.5 , 3.5 , 2.25],\n",
       "       [2.  , 3.  , 2.5 ],\n",
       "       [2.5 , 2.5 , 2.75],\n",
       "       [3.  , 2.  , 3.  ]])"
      ]
     },
     "execution_count": 49,
     "metadata": {},
     "output_type": "execute_result"
    }
   ],
   "source": [
    "ar2d = np.linspace((1,4,2),(3,2,3),5)\n",
    "ar2d"
   ]
  },
  {
   "cell_type": "code",
   "execution_count": 50,
   "id": "05acc39b",
   "metadata": {},
   "outputs": [
    {
     "data": {
      "text/plain": [
       "2"
      ]
     },
     "execution_count": 50,
     "metadata": {},
     "output_type": "execute_result"
    }
   ],
   "source": [
    "ar2d.ndim"
   ]
  },
  {
   "cell_type": "code",
   "execution_count": 29,
   "id": "30bf013d",
   "metadata": {},
   "outputs": [
    {
     "data": {
      "text/plain": [
       "array([[[4, 4],\n",
       "        [4, 4],\n",
       "        [4, 4]],\n",
       "\n",
       "       [[4, 4],\n",
       "        [4, 4],\n",
       "        [4, 4]]])"
      ]
     },
     "execution_count": 29,
     "metadata": {},
     "output_type": "execute_result"
    }
   ],
   "source": [
    "ar3d = np.full((2,3,2),4)\n",
    "ar3d"
   ]
  },
  {
   "cell_type": "code",
   "execution_count": 39,
   "id": "badca27c",
   "metadata": {},
   "outputs": [
    {
     "data": {
      "text/plain": [
       "(20,)"
      ]
     },
     "execution_count": 39,
     "metadata": {},
     "output_type": "execute_result"
    }
   ],
   "source": [
    "np.shape(ar1d)"
   ]
  },
  {
   "cell_type": "code",
   "execution_count": 33,
   "id": "68cdd9de",
   "metadata": {},
   "outputs": [
    {
     "data": {
      "text/plain": [
       "(5, 3)"
      ]
     },
     "execution_count": 33,
     "metadata": {},
     "output_type": "execute_result"
    }
   ],
   "source": [
    "ar2d.shape"
   ]
  },
  {
   "cell_type": "code",
   "execution_count": 34,
   "id": "b41d8eb2",
   "metadata": {},
   "outputs": [
    {
     "data": {
      "text/plain": [
       "(2, 3, 2)"
      ]
     },
     "execution_count": 34,
     "metadata": {},
     "output_type": "execute_result"
    }
   ],
   "source": [
    "ar3d.shape"
   ]
  },
  {
   "cell_type": "markdown",
   "id": "5649b51d",
   "metadata": {},
   "source": [
    "# SIZE"
   ]
  },
  {
   "cell_type": "code",
   "execution_count": 35,
   "id": "55688cf8",
   "metadata": {},
   "outputs": [
    {
     "data": {
      "text/plain": [
       "20"
      ]
     },
     "execution_count": 35,
     "metadata": {},
     "output_type": "execute_result"
    }
   ],
   "source": [
    "ar1d.size"
   ]
  },
  {
   "cell_type": "code",
   "execution_count": 36,
   "id": "0288f444",
   "metadata": {},
   "outputs": [
    {
     "data": {
      "text/plain": [
       "15"
      ]
     },
     "execution_count": 36,
     "metadata": {},
     "output_type": "execute_result"
    }
   ],
   "source": [
    "ar2d.size"
   ]
  },
  {
   "cell_type": "code",
   "execution_count": 38,
   "id": "a5f973a7",
   "metadata": {},
   "outputs": [
    {
     "data": {
      "text/plain": [
       "12"
      ]
     },
     "execution_count": 38,
     "metadata": {},
     "output_type": "execute_result"
    }
   ],
   "source": [
    "np.size(ar3d)"
   ]
  },
  {
   "cell_type": "markdown",
   "id": "a862db49",
   "metadata": {},
   "source": [
    "# Adding, Removing and Sorting elements"
   ]
  },
  {
   "cell_type": "markdown",
   "id": "845559f7",
   "metadata": {},
   "source": [
    "## ADD using Insert,Append"
   ]
  },
  {
   "cell_type": "code",
   "execution_count": 2,
   "id": "9c7f2a9a",
   "metadata": {},
   "outputs": [],
   "source": [
    "import numpy as np"
   ]
  },
  {
   "cell_type": "code",
   "execution_count": 4,
   "id": "38f294d8",
   "metadata": {},
   "outputs": [
    {
     "data": {
      "text/plain": [
       "array([12, 15,  3,  9, 18])"
      ]
     },
     "execution_count": 4,
     "metadata": {},
     "output_type": "execute_result"
    }
   ],
   "source": [
    "insar = np.random.randint(2,20,5)\n",
    "insar"
   ]
  },
  {
   "cell_type": "code",
   "execution_count": 5,
   "id": "f54fe687",
   "metadata": {},
   "outputs": [
    {
     "data": {
      "text/plain": [
       "array([12, 15,  3, 24,  9, 18])"
      ]
     },
     "execution_count": 5,
     "metadata": {},
     "output_type": "execute_result"
    }
   ],
   "source": [
    "np.insert(insar,3,24)\n"
   ]
  },
  {
   "cell_type": "code",
   "execution_count": 6,
   "id": "60210a52",
   "metadata": {},
   "outputs": [
    {
     "data": {
      "text/plain": [
       "array([12, 15,  3,  9, 18, 30])"
      ]
     },
     "execution_count": 6,
     "metadata": {},
     "output_type": "execute_result"
    }
   ],
   "source": [
    "np.append(insar,30)"
   ]
  },
  {
   "cell_type": "markdown",
   "id": "7a94bb74",
   "metadata": {},
   "source": [
    "# Deleting element from an array"
   ]
  },
  {
   "cell_type": "code",
   "execution_count": 8,
   "id": "0f6bccb5",
   "metadata": {},
   "outputs": [
    {
     "data": {
      "text/plain": [
       "array([15, 23, 18, 21, 24])"
      ]
     },
     "execution_count": 8,
     "metadata": {},
     "output_type": "execute_result"
    }
   ],
   "source": [
    "delar = np.random.randint(10,30,5)\n",
    "delar"
   ]
  },
  {
   "cell_type": "code",
   "execution_count": 10,
   "id": "6e51f8c3",
   "metadata": {},
   "outputs": [
    {
     "data": {
      "text/plain": [
       "array([23, 18, 21, 24])"
      ]
     },
     "execution_count": 10,
     "metadata": {},
     "output_type": "execute_result"
    }
   ],
   "source": [
    "np.delete(delar,0)"
   ]
  },
  {
   "cell_type": "markdown",
   "id": "9b924766",
   "metadata": {},
   "source": [
    "# Sorting elements in an array"
   ]
  },
  {
   "cell_type": "code",
   "execution_count": 11,
   "id": "3bdcdf9a",
   "metadata": {},
   "outputs": [
    {
     "data": {
      "text/plain": [
       "array([36, 20, 22, 26, 25, 38, 34, 39, 26, 39])"
      ]
     },
     "execution_count": 11,
     "metadata": {},
     "output_type": "execute_result"
    }
   ],
   "source": [
    "sorar = np.random.randint(20,40,10)\n",
    "sorar"
   ]
  },
  {
   "cell_type": "code",
   "execution_count": 12,
   "id": "f2da9754",
   "metadata": {},
   "outputs": [
    {
     "data": {
      "text/plain": [
       "array([20, 22, 25, 26, 26, 34, 36, 38, 39, 39])"
      ]
     },
     "execution_count": 12,
     "metadata": {},
     "output_type": "execute_result"
    }
   ],
   "source": [
    "np.sort(sorar)"
   ]
  },
  {
   "cell_type": "code",
   "execution_count": 16,
   "id": "f515b5e6",
   "metadata": {},
   "outputs": [
    {
     "data": {
      "text/plain": [
       "array([[34, 12,  0],\n",
       "       [ 7,  1,  5]])"
      ]
     },
     "execution_count": 16,
     "metadata": {},
     "output_type": "execute_result"
    }
   ],
   "source": [
    "arr2d = np.array([[34,12,0],[7,1,5]])\n",
    "arr2d"
   ]
  },
  {
   "cell_type": "code",
   "execution_count": 17,
   "id": "43061bf1",
   "metadata": {},
   "outputs": [
    {
     "data": {
      "text/plain": [
       "array([[ 0, 12, 34],\n",
       "       [ 1,  5,  7]])"
      ]
     },
     "execution_count": 17,
     "metadata": {},
     "output_type": "execute_result"
    }
   ],
   "source": [
    "np.sort(arr2d)"
   ]
  },
  {
   "cell_type": "markdown",
   "id": "5125c73f",
   "metadata": {},
   "source": [
    "# Sorting strings in an array"
   ]
  },
  {
   "cell_type": "code",
   "execution_count": 13,
   "id": "d7e6b778",
   "metadata": {},
   "outputs": [
    {
     "data": {
      "text/plain": [
       "array(['suba', 'ruba', 'apple', 'cat', 'ball'], dtype='<U5')"
      ]
     },
     "execution_count": 13,
     "metadata": {},
     "output_type": "execute_result"
    }
   ],
   "source": [
    "strar = np.array([\"suba\",\"ruba\",\"apple\",\"cat\",\"ball\"])\n",
    "strar"
   ]
  },
  {
   "cell_type": "code",
   "execution_count": 14,
   "id": "48d14025",
   "metadata": {},
   "outputs": [
    {
     "data": {
      "text/plain": [
       "array(['apple', 'ball', 'cat', 'ruba', 'suba'], dtype='<U5')"
      ]
     },
     "execution_count": 14,
     "metadata": {},
     "output_type": "execute_result"
    }
   ],
   "source": [
    "np.sort(strar)"
   ]
  },
  {
   "cell_type": "markdown",
   "id": "03750794",
   "metadata": {},
   "source": [
    "# Copies and Views"
   ]
  },
  {
   "cell_type": "code",
   "execution_count": 18,
   "id": "c89297c9",
   "metadata": {},
   "outputs": [
    {
     "data": {
      "text/plain": [
       "array([1, 2, 3, 4])"
      ]
     },
     "execution_count": 18,
     "metadata": {},
     "output_type": "execute_result"
    }
   ],
   "source": [
    "oriar = np.array([1,2,3,4])\n",
    "oriar"
   ]
  },
  {
   "cell_type": "code",
   "execution_count": 19,
   "id": "b8e7eeba",
   "metadata": {},
   "outputs": [
    {
     "data": {
      "text/plain": [
       "array([1, 2, 3, 4])"
      ]
     },
     "execution_count": 19,
     "metadata": {},
     "output_type": "execute_result"
    }
   ],
   "source": [
    "newar = oriar\n",
    "newar"
   ]
  },
  {
   "cell_type": "code",
   "execution_count": 20,
   "id": "22571f9c",
   "metadata": {},
   "outputs": [
    {
     "name": "stdout",
     "output_type": "stream",
     "text": [
      "ori:  2594080114512\n",
      "new:  2594080114512\n"
     ]
    }
   ],
   "source": [
    "print(\"ori: \",id(oriar))\n",
    "print(\"new: \",id(newar))"
   ]
  },
  {
   "cell_type": "code",
   "execution_count": 21,
   "id": "5de8bf17",
   "metadata": {},
   "outputs": [],
   "source": [
    "newar[0]=5\n"
   ]
  },
  {
   "cell_type": "code",
   "execution_count": 23,
   "id": "fbad8285",
   "metadata": {},
   "outputs": [
    {
     "name": "stdout",
     "output_type": "stream",
     "text": [
      "ori:  [5 2 3 4]\n",
      "new:  [5 2 3 4]\n"
     ]
    }
   ],
   "source": [
    "print(\"ori: \",oriar)\n",
    "print(\"new: \",newar)"
   ]
  },
  {
   "cell_type": "markdown",
   "id": "ec3ffb7f",
   "metadata": {},
   "source": [
    "## Copy"
   ]
  },
  {
   "cell_type": "code",
   "execution_count": 24,
   "id": "10031cb6",
   "metadata": {},
   "outputs": [
    {
     "data": {
      "text/plain": [
       "array([5, 2, 3, 4])"
      ]
     },
     "execution_count": 24,
     "metadata": {},
     "output_type": "execute_result"
    }
   ],
   "source": [
    "newcpy=oriar.copy()\n",
    "newcpy"
   ]
  },
  {
   "cell_type": "code",
   "execution_count": 25,
   "id": "6cc4eb70",
   "metadata": {},
   "outputs": [],
   "source": [
    "newcpy[0]=10"
   ]
  },
  {
   "cell_type": "code",
   "execution_count": 28,
   "id": "2a89964a",
   "metadata": {},
   "outputs": [
    {
     "name": "stdout",
     "output_type": "stream",
     "text": [
      "ori:  [5 2 3 4]\n",
      "new:  [10  2  3  4]\n"
     ]
    }
   ],
   "source": [
    "print(\"ori: \",oriar)\n",
    "print(\"new: \",newcpy)"
   ]
  },
  {
   "cell_type": "markdown",
   "id": "c40ba42d",
   "metadata": {},
   "source": [
    "## View"
   ]
  },
  {
   "cell_type": "code",
   "execution_count": 29,
   "id": "29e269d7",
   "metadata": {},
   "outputs": [
    {
     "data": {
      "text/plain": [
       "array([5, 2, 3, 4])"
      ]
     },
     "execution_count": 29,
     "metadata": {},
     "output_type": "execute_result"
    }
   ],
   "source": [
    "newvi =oriar.view()\n",
    "newvi"
   ]
  },
  {
   "cell_type": "code",
   "execution_count": 30,
   "id": "6bada132",
   "metadata": {},
   "outputs": [],
   "source": [
    "newvi[0]=12"
   ]
  },
  {
   "cell_type": "code",
   "execution_count": 31,
   "id": "634a386b",
   "metadata": {},
   "outputs": [
    {
     "name": "stdout",
     "output_type": "stream",
     "text": [
      "ori:  [12  2  3  4]\n",
      "new:  [12  2  3  4]\n"
     ]
    }
   ],
   "source": [
    "print(\"ori: \",oriar)\n",
    "print(\"new: \",newvi)"
   ]
  },
  {
   "cell_type": "markdown",
   "id": "b43219f1",
   "metadata": {},
   "source": [
    "## Assignment"
   ]
  },
  {
   "cell_type": "code",
   "execution_count": 32,
   "id": "14e72f31",
   "metadata": {},
   "outputs": [
    {
     "data": {
      "text/plain": [
       "array([12,  2,  3,  4])"
      ]
     },
     "execution_count": 32,
     "metadata": {},
     "output_type": "execute_result"
    }
   ],
   "source": [
    "assar = oriar\n",
    "assar"
   ]
  },
  {
   "cell_type": "code",
   "execution_count": 33,
   "id": "91716183",
   "metadata": {},
   "outputs": [],
   "source": [
    "assar[0]=15"
   ]
  },
  {
   "cell_type": "code",
   "execution_count": 34,
   "id": "f21569aa",
   "metadata": {},
   "outputs": [
    {
     "name": "stdout",
     "output_type": "stream",
     "text": [
      "ori:  [15  2  3  4]\n",
      "newass:  [15  2  3  4]\n"
     ]
    }
   ],
   "source": [
    "print(\"ori: \",oriar)\n",
    "print(\"newass: \",assar)"
   ]
  },
  {
   "cell_type": "markdown",
   "id": "889f18b2",
   "metadata": {},
   "source": [
    "# Reshaping Arrays"
   ]
  },
  {
   "cell_type": "markdown",
   "id": "813e0a3e",
   "metadata": {},
   "source": [
    "## Using Reshape (single to multidimension)"
   ]
  },
  {
   "cell_type": "code",
   "execution_count": 43,
   "id": "7e1370f2",
   "metadata": {},
   "outputs": [
    {
     "data": {
      "text/plain": [
       "array([ 0,  1,  2,  3,  4,  5,  6,  7,  8,  9, 10, 11])"
      ]
     },
     "execution_count": 43,
     "metadata": {},
     "output_type": "execute_result"
    }
   ],
   "source": [
    "ar1d = np.arange(0,12)\n",
    "ar1d"
   ]
  },
  {
   "cell_type": "code",
   "execution_count": 44,
   "id": "e20e16ba",
   "metadata": {},
   "outputs": [
    {
     "data": {
      "text/plain": [
       "array([[ 0,  1,  2,  3],\n",
       "       [ 4,  5,  6,  7],\n",
       "       [ 8,  9, 10, 11]])"
      ]
     },
     "execution_count": 44,
     "metadata": {},
     "output_type": "execute_result"
    }
   ],
   "source": [
    "re2d=np.reshape(ar1d,(3,4))\n",
    "re2d"
   ]
  },
  {
   "cell_type": "code",
   "execution_count": 45,
   "id": "7aa757b7",
   "metadata": {},
   "outputs": [
    {
     "ename": "ValueError",
     "evalue": "cannot reshape array of size 12 into shape (3,3)",
     "output_type": "error",
     "traceback": [
      "\u001b[1;31m---------------------------------------------------------------------------\u001b[0m",
      "\u001b[1;31mValueError\u001b[0m                                Traceback (most recent call last)",
      "Input \u001b[1;32mIn [45]\u001b[0m, in \u001b[0;36m<cell line: 1>\u001b[1;34m()\u001b[0m\n\u001b[1;32m----> 1\u001b[0m re2derr\u001b[38;5;241m=\u001b[39m\u001b[43mnp\u001b[49m\u001b[38;5;241;43m.\u001b[39;49m\u001b[43mreshape\u001b[49m\u001b[43m(\u001b[49m\u001b[43mar1d\u001b[49m\u001b[43m,\u001b[49m\u001b[43m(\u001b[49m\u001b[38;5;241;43m3\u001b[39;49m\u001b[43m,\u001b[49m\u001b[38;5;241;43m3\u001b[39;49m\u001b[43m)\u001b[49m\u001b[43m)\u001b[49m\n\u001b[0;32m      2\u001b[0m re2derr\n",
      "File \u001b[1;32m<__array_function__ internals>:5\u001b[0m, in \u001b[0;36mreshape\u001b[1;34m(*args, **kwargs)\u001b[0m\n",
      "File \u001b[1;32mE:\\anaconda\\lib\\site-packages\\numpy\\core\\fromnumeric.py:298\u001b[0m, in \u001b[0;36mreshape\u001b[1;34m(a, newshape, order)\u001b[0m\n\u001b[0;32m    198\u001b[0m \u001b[38;5;129m@array_function_dispatch\u001b[39m(_reshape_dispatcher)\n\u001b[0;32m    199\u001b[0m \u001b[38;5;28;01mdef\u001b[39;00m \u001b[38;5;21mreshape\u001b[39m(a, newshape, order\u001b[38;5;241m=\u001b[39m\u001b[38;5;124m'\u001b[39m\u001b[38;5;124mC\u001b[39m\u001b[38;5;124m'\u001b[39m):\n\u001b[0;32m    200\u001b[0m     \u001b[38;5;124;03m\"\"\"\u001b[39;00m\n\u001b[0;32m    201\u001b[0m \u001b[38;5;124;03m    Gives a new shape to an array without changing its data.\u001b[39;00m\n\u001b[0;32m    202\u001b[0m \n\u001b[1;32m   (...)\u001b[0m\n\u001b[0;32m    296\u001b[0m \u001b[38;5;124;03m           [5, 6]])\u001b[39;00m\n\u001b[0;32m    297\u001b[0m \u001b[38;5;124;03m    \"\"\"\u001b[39;00m\n\u001b[1;32m--> 298\u001b[0m     \u001b[38;5;28;01mreturn\u001b[39;00m \u001b[43m_wrapfunc\u001b[49m\u001b[43m(\u001b[49m\u001b[43ma\u001b[49m\u001b[43m,\u001b[49m\u001b[43m \u001b[49m\u001b[38;5;124;43m'\u001b[39;49m\u001b[38;5;124;43mreshape\u001b[39;49m\u001b[38;5;124;43m'\u001b[39;49m\u001b[43m,\u001b[49m\u001b[43m \u001b[49m\u001b[43mnewshape\u001b[49m\u001b[43m,\u001b[49m\u001b[43m \u001b[49m\u001b[43morder\u001b[49m\u001b[38;5;241;43m=\u001b[39;49m\u001b[43morder\u001b[49m\u001b[43m)\u001b[49m\n",
      "File \u001b[1;32mE:\\anaconda\\lib\\site-packages\\numpy\\core\\fromnumeric.py:57\u001b[0m, in \u001b[0;36m_wrapfunc\u001b[1;34m(obj, method, *args, **kwds)\u001b[0m\n\u001b[0;32m     54\u001b[0m     \u001b[38;5;28;01mreturn\u001b[39;00m _wrapit(obj, method, \u001b[38;5;241m*\u001b[39margs, \u001b[38;5;241m*\u001b[39m\u001b[38;5;241m*\u001b[39mkwds)\n\u001b[0;32m     56\u001b[0m \u001b[38;5;28;01mtry\u001b[39;00m:\n\u001b[1;32m---> 57\u001b[0m     \u001b[38;5;28;01mreturn\u001b[39;00m bound(\u001b[38;5;241m*\u001b[39margs, \u001b[38;5;241m*\u001b[39m\u001b[38;5;241m*\u001b[39mkwds)\n\u001b[0;32m     58\u001b[0m \u001b[38;5;28;01mexcept\u001b[39;00m \u001b[38;5;167;01mTypeError\u001b[39;00m:\n\u001b[0;32m     59\u001b[0m     \u001b[38;5;66;03m# A TypeError occurs if the object does have such a method in its\u001b[39;00m\n\u001b[0;32m     60\u001b[0m     \u001b[38;5;66;03m# class, but its signature is not identical to that of NumPy's. This\u001b[39;00m\n\u001b[1;32m   (...)\u001b[0m\n\u001b[0;32m     64\u001b[0m     \u001b[38;5;66;03m# Call _wrapit from within the except clause to ensure a potential\u001b[39;00m\n\u001b[0;32m     65\u001b[0m     \u001b[38;5;66;03m# exception has a traceback chain.\u001b[39;00m\n\u001b[0;32m     66\u001b[0m     \u001b[38;5;28;01mreturn\u001b[39;00m _wrapit(obj, method, \u001b[38;5;241m*\u001b[39margs, \u001b[38;5;241m*\u001b[39m\u001b[38;5;241m*\u001b[39mkwds)\n",
      "\u001b[1;31mValueError\u001b[0m: cannot reshape array of size 12 into shape (3,3)"
     ]
    }
   ],
   "source": [
    "re2derr=np.reshape(ar1d,(3,3))\n",
    "re2derr"
   ]
  },
  {
   "cell_type": "code",
   "execution_count": 47,
   "id": "24f61115",
   "metadata": {},
   "outputs": [
    {
     "data": {
      "text/plain": [
       "array([[[ 0,  1],\n",
       "        [ 2,  3]],\n",
       "\n",
       "       [[ 4,  5],\n",
       "        [ 6,  7]],\n",
       "\n",
       "       [[ 8,  9],\n",
       "        [10, 11]]])"
      ]
     },
     "execution_count": 47,
     "metadata": {},
     "output_type": "execute_result"
    }
   ],
   "source": [
    "re3d = np.reshape(ar1d,(3,2,2))\n",
    "re3d"
   ]
  },
  {
   "cell_type": "markdown",
   "id": "5a0ca677",
   "metadata": {},
   "source": [
    "## Using Reshape (multi dimension to single)"
   ]
  },
  {
   "cell_type": "code",
   "execution_count": 52,
   "id": "d47a52e2",
   "metadata": {},
   "outputs": [
    {
     "data": {
      "text/plain": [
       "array([[ 3,  9],\n",
       "       [ 4, 11],\n",
       "       [ 5, 13],\n",
       "       [ 7, 16]])"
      ]
     },
     "execution_count": 52,
     "metadata": {},
     "output_type": "execute_result"
    }
   ],
   "source": [
    "ar2d=np.linspace((3,9),(7,16),4,dtype=int)\n",
    "ar2d"
   ]
  },
  {
   "cell_type": "code",
   "execution_count": 54,
   "id": "43b94809",
   "metadata": {},
   "outputs": [
    {
     "data": {
      "text/plain": [
       "array([ 3,  9,  4, 11,  5, 13,  7, 16])"
      ]
     },
     "execution_count": 54,
     "metadata": {},
     "output_type": "execute_result"
    }
   ],
   "source": [
    "redar = np.reshape(ar2d,-1)\n",
    "redar"
   ]
  },
  {
   "cell_type": "code",
   "execution_count": 55,
   "id": "03e51510",
   "metadata": {},
   "outputs": [
    {
     "name": "stdout",
     "output_type": "stream",
     "text": [
      "2\n",
      "1\n"
     ]
    }
   ],
   "source": [
    "print(ar2d.ndim)\n",
    "print(redar.ndim)"
   ]
  },
  {
   "cell_type": "markdown",
   "id": "56f07843",
   "metadata": {},
   "source": [
    "## Flattening using Flatten(create a copy) \n",
    "\n",
    "## Ravel(Creates a view - changes will be reflected to original array)"
   ]
  },
  {
   "cell_type": "code",
   "execution_count": 59,
   "id": "0a5a123d",
   "metadata": {},
   "outputs": [
    {
     "data": {
      "text/plain": [
       "array([[ 1,  5],\n",
       "       [ 2,  6],\n",
       "       [ 4,  8],\n",
       "       [ 6, 10]])"
      ]
     },
     "execution_count": 59,
     "metadata": {},
     "output_type": "execute_result"
    }
   ],
   "source": [
    "oar = np.linspace((1,5),(6,10),4,dtype=int)\n",
    "oar"
   ]
  },
  {
   "cell_type": "code",
   "execution_count": 63,
   "id": "087bd405",
   "metadata": {},
   "outputs": [],
   "source": [
    "arflat = oar.flatten()\n",
    "arravel = oar.ravel()"
   ]
  },
  {
   "cell_type": "code",
   "execution_count": 64,
   "id": "e85b6247",
   "metadata": {},
   "outputs": [
    {
     "name": "stdout",
     "output_type": "stream",
     "text": [
      "Flatten:  [ 1  5  2  6  4  8  6 10]\n",
      "Ravel:  [ 1  5  2  6  4  8  6 10]\n"
     ]
    }
   ],
   "source": [
    "print(\"Flatten: \",arflat)\n",
    "print(\"Ravel: \",arravel)"
   ]
  },
  {
   "cell_type": "code",
   "execution_count": 65,
   "id": "9469ce79",
   "metadata": {},
   "outputs": [
    {
     "name": "stdout",
     "output_type": "stream",
     "text": [
      "ori:  [[ 1  5]\n",
      " [ 2  6]\n",
      " [ 4  8]\n",
      " [ 6 10]]\n",
      "flatten:  [15  5  2  6  4  8  6 10]\n"
     ]
    }
   ],
   "source": [
    "arflat[0]=15\n",
    "print(\"ori: \",oar)\n",
    "print(\"flatten: \",arflat)"
   ]
  },
  {
   "cell_type": "code",
   "execution_count": 66,
   "id": "aae3f701",
   "metadata": {},
   "outputs": [
    {
     "name": "stdout",
     "output_type": "stream",
     "text": [
      "ori:  [[12  5]\n",
      " [ 2  6]\n",
      " [ 4  8]\n",
      " [ 6 10]]\n",
      "Ravel:  [12  5  2  6  4  8  6 10]\n"
     ]
    }
   ],
   "source": [
    "arravel[0]=12\n",
    "print(\"ori: \",oar)\n",
    "print(\"Ravel: \",arravel)"
   ]
  },
  {
   "cell_type": "markdown",
   "id": "8122c9e1",
   "metadata": {},
   "source": [
    "# Indexing and Slicing"
   ]
  },
  {
   "cell_type": "code",
   "execution_count": 69,
   "id": "1388d104",
   "metadata": {},
   "outputs": [
    {
     "data": {
      "text/plain": [
       "array([0, 1, 2, 3, 4, 5, 6, 7, 8, 9])"
      ]
     },
     "execution_count": 69,
     "metadata": {},
     "output_type": "execute_result"
    }
   ],
   "source": [
    "inarr = np.arange(10)\n",
    "inarr"
   ]
  },
  {
   "cell_type": "code",
   "execution_count": 87,
   "id": "859eb564",
   "metadata": {},
   "outputs": [
    {
     "data": {
      "text/plain": [
       "array([[[ 0,  1,  2],\n",
       "        [ 3,  4,  5],\n",
       "        [ 6,  7,  8],\n",
       "        [ 9, 10, 11]],\n",
       "\n",
       "       [[12, 13, 14],\n",
       "        [15, 16, 17],\n",
       "        [18, 19, 20],\n",
       "        [21, 22, 23]]])"
      ]
     },
     "execution_count": 87,
     "metadata": {},
     "output_type": "execute_result"
    }
   ],
   "source": [
    "arr3d = np.reshape(np.arange(2*4*3),(2,4,3))\n",
    "arr3d"
   ]
  },
  {
   "cell_type": "markdown",
   "id": "07ada67c",
   "metadata": {},
   "source": [
    "# Slicing"
   ]
  },
  {
   "cell_type": "code",
   "execution_count": 72,
   "id": "d5e5eeb3",
   "metadata": {},
   "outputs": [
    {
     "name": "stdout",
     "output_type": "stream",
     "text": [
      "[1 2 3 4]\n",
      "[0 1 2 3 4 5 6 7 8 9]\n",
      "[3 4 5 6 7 8 9]\n",
      "[7 8 9]\n"
     ]
    }
   ],
   "source": [
    "print(inarr[1:5])\n",
    "print(inarr[:])\n",
    "print(inarr[3:])\n",
    "print(inarr[-3:])"
   ]
  },
  {
   "cell_type": "code",
   "execution_count": 75,
   "id": "70f55def",
   "metadata": {},
   "outputs": [
    {
     "data": {
      "text/plain": [
       "array([[ 0,  1,  2,  3],\n",
       "       [ 4,  5,  6,  7],\n",
       "       [ 8,  9, 10, 11]])"
      ]
     },
     "execution_count": 75,
     "metadata": {},
     "output_type": "execute_result"
    }
   ],
   "source": [
    "in2d =np.reshape(np.arange(12),(3,4))\n",
    "in2d"
   ]
  },
  {
   "cell_type": "code",
   "execution_count": 82,
   "id": "42039291",
   "metadata": {},
   "outputs": [
    {
     "name": "stdout",
     "output_type": "stream",
     "text": [
      "[[ 1  2  3]\n",
      " [ 5  6  7]\n",
      " [ 9 10 11]]\n",
      "\n",
      "\n",
      "[0 1 2 3]\n",
      "\n",
      "\n",
      "[1 5 9]\n"
     ]
    }
   ],
   "source": [
    "print(in2d[0:,1:])\n",
    "print(\"\\n\")\n",
    "print(in2d[0,0:])\n",
    "print(\"\\n\")\n",
    "print(in2d[0:,1])"
   ]
  },
  {
   "cell_type": "code",
   "execution_count": 93,
   "id": "da46191d",
   "metadata": {},
   "outputs": [
    {
     "name": "stdout",
     "output_type": "stream",
     "text": [
      "[[ 4  5]\n",
      " [ 7  8]\n",
      " [10 11]]\n"
     ]
    }
   ],
   "source": [
    "print(arr3d[0,1:,1:])"
   ]
  },
  {
   "cell_type": "code",
   "execution_count": 94,
   "id": "3cff774e",
   "metadata": {},
   "outputs": [
    {
     "name": "stdout",
     "output_type": "stream",
     "text": [
      "[14 17 20 23]\n"
     ]
    }
   ],
   "source": [
    "print(arr3d[1,0:,2])"
   ]
  },
  {
   "cell_type": "markdown",
   "id": "e3575050",
   "metadata": {},
   "source": [
    "# Indexing"
   ]
  },
  {
   "cell_type": "code",
   "execution_count": 84,
   "id": "52b4f115",
   "metadata": {},
   "outputs": [
    {
     "name": "stdout",
     "output_type": "stream",
     "text": [
      "5\n",
      "[0 1 2 3]\n"
     ]
    }
   ],
   "source": [
    "print(inarr[5])\n",
    "print(in2d[0])"
   ]
  },
  {
   "cell_type": "code",
   "execution_count": 92,
   "id": "9c04de1f",
   "metadata": {},
   "outputs": [
    {
     "name": "stdout",
     "output_type": "stream",
     "text": [
      "[[ 0  1  2]\n",
      " [ 3  4  5]\n",
      " [ 6  7  8]\n",
      " [ 9 10 11]]\n",
      "\n",
      "\n",
      "[3 4 5]\n"
     ]
    }
   ],
   "source": [
    "print(arr3d[0])\n",
    "print(\"\\n\")\n",
    "print(arr3d[0,1])"
   ]
  },
  {
   "cell_type": "markdown",
   "id": "65feccac",
   "metadata": {},
   "source": [
    "# Functions for Joining arrays"
   ]
  },
  {
   "cell_type": "markdown",
   "id": "ddb32127",
   "metadata": {},
   "source": [
    "## Concatenate, Stack, Hstack, Vstack"
   ]
  },
  {
   "cell_type": "code",
   "execution_count": 7,
   "id": "1b60be33",
   "metadata": {},
   "outputs": [],
   "source": [
    "import numpy as np"
   ]
  },
  {
   "cell_type": "code",
   "execution_count": 8,
   "id": "95da6659",
   "metadata": {},
   "outputs": [
    {
     "data": {
      "text/plain": [
       "array([ 1,  2,  3,  4,  5,  6,  7,  8,  9, 10])"
      ]
     },
     "execution_count": 8,
     "metadata": {},
     "output_type": "execute_result"
    }
   ],
   "source": [
    "arr1 = np.arange(1,11)\n",
    "arr1"
   ]
  },
  {
   "cell_type": "code",
   "execution_count": 9,
   "id": "d28b1a2e",
   "metadata": {},
   "outputs": [
    {
     "data": {
      "text/plain": [
       "array([11, 12, 13, 14, 15, 16, 17, 18, 19, 20])"
      ]
     },
     "execution_count": 9,
     "metadata": {},
     "output_type": "execute_result"
    }
   ],
   "source": [
    "arr2 = np.arange(11,21)\n",
    "arr2"
   ]
  },
  {
   "cell_type": "code",
   "execution_count": 10,
   "id": "34917f86",
   "metadata": {},
   "outputs": [
    {
     "data": {
      "text/plain": [
       "array([ 1,  2,  3,  4,  5,  6,  7,  8,  9, 10, 11, 12, 13, 14, 15, 16, 17,\n",
       "       18, 19, 20])"
      ]
     },
     "execution_count": 10,
     "metadata": {},
     "output_type": "execute_result"
    }
   ],
   "source": [
    "concat = np.concatenate((arr1,arr2))\n",
    "concat"
   ]
  },
  {
   "cell_type": "code",
   "execution_count": 11,
   "id": "a9de434d",
   "metadata": {},
   "outputs": [
    {
     "data": {
      "text/plain": [
       "array([[ 0,  1,  2,  3],\n",
       "       [ 4,  5,  6,  7],\n",
       "       [ 8,  9, 10, 11]])"
      ]
     },
     "execution_count": 11,
     "metadata": {},
     "output_type": "execute_result"
    }
   ],
   "source": [
    "useresar= np.reshape(np.arange(0,12),(3,4))\n",
    "useresar"
   ]
  },
  {
   "cell_type": "code",
   "execution_count": 12,
   "id": "059a4ac3",
   "metadata": {
    "scrolled": true
   },
   "outputs": [
    {
     "data": {
      "text/plain": [
       "array([[ 3,  1],\n",
       "       [ 7, 10]])"
      ]
     },
     "execution_count": 12,
     "metadata": {},
     "output_type": "execute_result"
    }
   ],
   "source": [
    "concat2 = np.linspace((3,1),(7,10),2,dtype=int)\n",
    "concat2"
   ]
  },
  {
   "cell_type": "code",
   "execution_count": 13,
   "id": "45fc176d",
   "metadata": {},
   "outputs": [
    {
     "data": {
      "text/plain": [
       "array([[0, 1],\n",
       "       [2, 3]])"
      ]
     },
     "execution_count": 13,
     "metadata": {},
     "output_type": "execute_result"
    }
   ],
   "source": [
    "useresar2 = np.reshape(np.arange(0,4),(2,2))\n",
    "useresar2"
   ]
  },
  {
   "cell_type": "code",
   "execution_count": 14,
   "id": "d200cce5",
   "metadata": {},
   "outputs": [
    {
     "data": {
      "text/plain": [
       "array([[ 3,  1],\n",
       "       [ 7, 10],\n",
       "       [ 0,  1],\n",
       "       [ 2,  3]])"
      ]
     },
     "execution_count": 14,
     "metadata": {},
     "output_type": "execute_result"
    }
   ],
   "source": [
    "concat3 = np.concatenate((concat2,useresar2))\n",
    "concat3"
   ]
  },
  {
   "cell_type": "code",
   "execution_count": 15,
   "id": "9d0b49d6",
   "metadata": {},
   "outputs": [
    {
     "data": {
      "text/plain": [
       "array([[ 3,  1,  0,  1],\n",
       "       [ 7, 10,  2,  3]])"
      ]
     },
     "execution_count": 15,
     "metadata": {},
     "output_type": "execute_result"
    }
   ],
   "source": [
    "concat4 = np.concatenate((concat2,useresar2),axis=1)\n",
    "concat4"
   ]
  },
  {
   "cell_type": "code",
   "execution_count": 16,
   "id": "80046d82",
   "metadata": {},
   "outputs": [
    {
     "data": {
      "text/plain": [
       "array([[ 3,  1,  0,  1],\n",
       "       [ 7, 10,  2,  3]])"
      ]
     },
     "execution_count": 16,
     "metadata": {},
     "output_type": "execute_result"
    }
   ],
   "source": [
    "hstack1= np.hstack((concat2,useresar2))\n",
    "hstack1"
   ]
  },
  {
   "cell_type": "code",
   "execution_count": 18,
   "id": "6d321f52",
   "metadata": {},
   "outputs": [
    {
     "data": {
      "text/plain": [
       "array([[ 3,  1],\n",
       "       [ 7, 10],\n",
       "       [ 0,  1],\n",
       "       [ 2,  3]])"
      ]
     },
     "execution_count": 18,
     "metadata": {},
     "output_type": "execute_result"
    }
   ],
   "source": [
    "vstack1=np.vstack((concat2,useresar2))\n",
    "vstack1"
   ]
  },
  {
   "cell_type": "code",
   "execution_count": 20,
   "id": "6629cd2d",
   "metadata": {},
   "outputs": [
    {
     "data": {
      "text/plain": [
       "array([[ 3,  1],\n",
       "       [ 7, 10],\n",
       "       [ 0,  1],\n",
       "       [ 2,  3]])"
      ]
     },
     "execution_count": 20,
     "metadata": {},
     "output_type": "execute_result"
    }
   ],
   "source": [
    "concat5=np.concatenate((concat2,useresar2),axis=0)\n",
    "concat5"
   ]
  },
  {
   "cell_type": "code",
   "execution_count": 33,
   "id": "af7aef4a",
   "metadata": {},
   "outputs": [
    {
     "data": {
      "text/plain": [
       "array([[ 0,  1,  2,  3],\n",
       "       [ 4,  5,  6,  7],\n",
       "       [ 8,  9, 10, 11]])"
      ]
     },
     "execution_count": 33,
     "metadata": {},
     "output_type": "execute_result"
    }
   ],
   "source": [
    "arr = np.arange(0,12).reshape(3,4)\n",
    "arr"
   ]
  },
  {
   "cell_type": "code",
   "execution_count": 34,
   "id": "9284775e",
   "metadata": {},
   "outputs": [
    {
     "data": {
      "text/plain": [
       "array([[ 3,  8,  4,  1],\n",
       "       [ 9, 11,  4,  3],\n",
       "       [ 5,  7,  6,  7]])"
      ]
     },
     "execution_count": 34,
     "metadata": {},
     "output_type": "execute_result"
    }
   ],
   "source": [
    "arr1 = np.random.randint(1,12,12).reshape(3,4)\n",
    "arr1"
   ]
  },
  {
   "cell_type": "code",
   "execution_count": 37,
   "id": "2b5c9a5e",
   "metadata": {},
   "outputs": [
    {
     "data": {
      "text/plain": [
       "array([[[ 0,  1,  2,  3],\n",
       "        [ 4,  5,  6,  7],\n",
       "        [ 8,  9, 10, 11]],\n",
       "\n",
       "       [[ 3,  8,  4,  1],\n",
       "        [ 9, 11,  4,  3],\n",
       "        [ 5,  7,  6,  7]]])"
      ]
     },
     "execution_count": 37,
     "metadata": {},
     "output_type": "execute_result"
    }
   ],
   "source": [
    "star=np.stack((arr,arr1))\n",
    "star"
   ]
  },
  {
   "cell_type": "code",
   "execution_count": 38,
   "id": "d930aee3",
   "metadata": {},
   "outputs": [
    {
     "data": {
      "text/plain": [
       "array([[[ 0,  1,  2,  3],\n",
       "        [ 3,  8,  4,  1]],\n",
       "\n",
       "       [[ 4,  5,  6,  7],\n",
       "        [ 9, 11,  4,  3]],\n",
       "\n",
       "       [[ 8,  9, 10, 11],\n",
       "        [ 5,  7,  6,  7]]])"
      ]
     },
     "execution_count": 38,
     "metadata": {},
     "output_type": "execute_result"
    }
   ],
   "source": [
    "stas1=np.stack((arr,arr1),axis=1)\n",
    "stas1"
   ]
  },
  {
   "cell_type": "code",
   "execution_count": 39,
   "id": "f0532a12",
   "metadata": {},
   "outputs": [
    {
     "data": {
      "text/plain": [
       "array([[[ 0,  1,  2,  3],\n",
       "        [ 4,  5,  6,  7],\n",
       "        [ 8,  9, 10, 11]],\n",
       "\n",
       "       [[ 3,  8,  4,  1],\n",
       "        [ 9, 11,  4,  3],\n",
       "        [ 5,  7,  6,  7]]])"
      ]
     },
     "execution_count": 39,
     "metadata": {},
     "output_type": "execute_result"
    }
   ],
   "source": [
    "stas0=np.stack((arr,arr1),axis=0)\n",
    "stas0"
   ]
  },
  {
   "cell_type": "markdown",
   "id": "b40c3f61",
   "metadata": {},
   "source": [
    "# Splitting Arrays\n",
    "\n",
    "## Resulting array same shape, No of elements is Divisible by no of splits"
   ]
  },
  {
   "cell_type": "markdown",
   "id": "336be57a",
   "metadata": {},
   "source": [
    "## array_split, split, hsplit, vsplit"
   ]
  },
  {
   "cell_type": "code",
   "execution_count": 41,
   "id": "665744f1",
   "metadata": {},
   "outputs": [
    {
     "data": {
      "text/plain": [
       "array([ 3,  4,  5,  6,  7,  8,  9, 10, 11])"
      ]
     },
     "execution_count": 41,
     "metadata": {},
     "output_type": "execute_result"
    }
   ],
   "source": [
    "arr1d = np.arange(3,12)\n",
    "arr1d"
   ]
  },
  {
   "cell_type": "code",
   "execution_count": 42,
   "id": "85a9770b",
   "metadata": {},
   "outputs": [
    {
     "data": {
      "text/plain": [
       "[array([3, 4, 5]), array([6, 7, 8]), array([ 9, 10, 11])]"
      ]
     },
     "execution_count": 42,
     "metadata": {},
     "output_type": "execute_result"
    }
   ],
   "source": [
    "sp1d = np.split(arr1d,3)\n",
    "sp1d"
   ]
  },
  {
   "cell_type": "code",
   "execution_count": 43,
   "id": "2a20b656",
   "metadata": {},
   "outputs": [
    {
     "data": {
      "text/plain": [
       "array([6, 7, 8])"
      ]
     },
     "execution_count": 43,
     "metadata": {},
     "output_type": "execute_result"
    }
   ],
   "source": [
    "sp1d[1]"
   ]
  },
  {
   "cell_type": "code",
   "execution_count": 44,
   "id": "3cdf9530",
   "metadata": {},
   "outputs": [
    {
     "data": {
      "text/plain": [
       "array([[45, 70, 95],\n",
       "       [93, 85,  5],\n",
       "       [51, 26, 22]])"
      ]
     },
     "execution_count": 44,
     "metadata": {},
     "output_type": "execute_result"
    }
   ],
   "source": [
    "arr2d = np.random.randint(1,100,9).reshape(3,3)\n",
    "arr2d"
   ]
  },
  {
   "cell_type": "code",
   "execution_count": 46,
   "id": "c00a8e5e",
   "metadata": {},
   "outputs": [
    {
     "data": {
      "text/plain": [
       "[array([[45, 70, 95]]), array([[93, 85,  5]]), array([[51, 26, 22]])]"
      ]
     },
     "execution_count": 46,
     "metadata": {},
     "output_type": "execute_result"
    }
   ],
   "source": [
    "sp2d=np.array_split(arr2d,3)\n",
    "sp2d"
   ]
  },
  {
   "cell_type": "code",
   "execution_count": 47,
   "id": "7b72e15c",
   "metadata": {},
   "outputs": [
    {
     "data": {
      "text/plain": [
       "[array([[45],\n",
       "        [93],\n",
       "        [51]]),\n",
       " array([[70],\n",
       "        [85],\n",
       "        [26]]),\n",
       " array([[95],\n",
       "        [ 5],\n",
       "        [22]])]"
      ]
     },
     "execution_count": 47,
     "metadata": {},
     "output_type": "execute_result"
    }
   ],
   "source": [
    "hsp=np.hsplit(arr2d,3)\n",
    "hsp"
   ]
  },
  {
   "cell_type": "code",
   "execution_count": 48,
   "id": "48f862eb",
   "metadata": {},
   "outputs": [
    {
     "data": {
      "text/plain": [
       "[array([[45, 70, 95]]), array([[93, 85,  5]]), array([[51, 26, 22]])]"
      ]
     },
     "execution_count": 48,
     "metadata": {},
     "output_type": "execute_result"
    }
   ],
   "source": [
    "vsp = np.vsplit(arr2d,3)\n",
    "vsp"
   ]
  },
  {
   "cell_type": "code",
   "execution_count": 49,
   "id": "1c789315",
   "metadata": {},
   "outputs": [
    {
     "data": {
      "text/plain": [
       "[array([[45],\n",
       "        [93],\n",
       "        [51]]),\n",
       " array([[70],\n",
       "        [85],\n",
       "        [26]]),\n",
       " array([[95],\n",
       "        [ 5],\n",
       "        [22]])]"
      ]
     },
     "execution_count": 49,
     "metadata": {},
     "output_type": "execute_result"
    }
   ],
   "source": [
    "spaxis = np.split(arr2d,3,axis=1)\n",
    "spaxis"
   ]
  },
  {
   "cell_type": "code",
   "execution_count": 50,
   "id": "8ecd3f2f",
   "metadata": {},
   "outputs": [
    {
     "data": {
      "text/plain": [
       "[array([[45, 70, 95]]), array([[93, 85,  5]]), array([[51, 26, 22]])]"
      ]
     },
     "execution_count": 50,
     "metadata": {},
     "output_type": "execute_result"
    }
   ],
   "source": [
    "arspaxis = np.array_split(arr2d,3,axis=0)\n",
    "arspaxis"
   ]
  },
  {
   "cell_type": "markdown",
   "id": "7988c763",
   "metadata": {},
   "source": [
    "# Vectorization"
   ]
  },
  {
   "cell_type": "markdown",
   "id": "5614c7e8",
   "metadata": {},
   "source": [
    "## Addition"
   ]
  },
  {
   "cell_type": "code",
   "execution_count": 73,
   "id": "496eccbc",
   "metadata": {},
   "outputs": [
    {
     "name": "stdout",
     "output_type": "stream",
     "text": [
      "[ 1  2  3  4  5  6  7  8  9 10 11 12]\n",
      "[ 3  4  5  6  7  8  9 10 11 12 13 14]\n"
     ]
    }
   ],
   "source": [
    "arr1=np.arange(1,13)\n",
    "arr2=np.arange(3,15)\n",
    "print(arr1)\n",
    "print(arr2)"
   ]
  },
  {
   "cell_type": "code",
   "execution_count": 74,
   "id": "3448b3c7",
   "metadata": {},
   "outputs": [
    {
     "data": {
      "text/plain": [
       "array([ 4,  6,  8, 10, 12, 14, 16, 18, 20, 22, 24, 26])"
      ]
     },
     "execution_count": 74,
     "metadata": {},
     "output_type": "execute_result"
    }
   ],
   "source": [
    "arr1+arr2"
   ]
  },
  {
   "cell_type": "code",
   "execution_count": 75,
   "id": "11f7b892",
   "metadata": {},
   "outputs": [
    {
     "data": {
      "text/plain": [
       "180"
      ]
     },
     "execution_count": 75,
     "metadata": {},
     "output_type": "execute_result"
    }
   ],
   "source": [
    "np.sum((arr1,arr2))"
   ]
  },
  {
   "cell_type": "code",
   "execution_count": 76,
   "id": "15a0f071",
   "metadata": {},
   "outputs": [
    {
     "data": {
      "text/plain": [
       "array([ 4,  6,  8, 10, 12, 14, 16, 18, 20, 22, 24, 26])"
      ]
     },
     "execution_count": 76,
     "metadata": {},
     "output_type": "execute_result"
    }
   ],
   "source": [
    "np.add(arr1,arr2)"
   ]
  },
  {
   "cell_type": "markdown",
   "id": "9cc49652",
   "metadata": {},
   "source": [
    "## Subtraction"
   ]
  },
  {
   "cell_type": "code",
   "execution_count": 77,
   "id": "728c2b39",
   "metadata": {},
   "outputs": [
    {
     "data": {
      "text/plain": [
       "array([2, 2, 2, 2, 2, 2, 2, 2, 2, 2, 2, 2])"
      ]
     },
     "execution_count": 77,
     "metadata": {},
     "output_type": "execute_result"
    }
   ],
   "source": [
    "np.subtract(arr2,arr1)"
   ]
  },
  {
   "cell_type": "code",
   "execution_count": 78,
   "id": "f769ecb2",
   "metadata": {},
   "outputs": [
    {
     "data": {
      "text/plain": [
       "array([-2, -2, -2, -2, -2, -2, -2, -2, -2, -2, -2, -2])"
      ]
     },
     "execution_count": 78,
     "metadata": {},
     "output_type": "execute_result"
    }
   ],
   "source": [
    "arr1-arr2"
   ]
  },
  {
   "cell_type": "markdown",
   "id": "595c2a31",
   "metadata": {},
   "source": [
    "## Multiply"
   ]
  },
  {
   "cell_type": "code",
   "execution_count": 79,
   "id": "842f3412",
   "metadata": {},
   "outputs": [
    {
     "data": {
      "text/plain": [
       "array([  3,   8,  15,  24,  35,  48,  63,  80,  99, 120, 143, 168])"
      ]
     },
     "execution_count": 79,
     "metadata": {},
     "output_type": "execute_result"
    }
   ],
   "source": [
    "np.multiply(arr1,arr2)"
   ]
  },
  {
   "cell_type": "code",
   "execution_count": 80,
   "id": "6c62e8a0",
   "metadata": {},
   "outputs": [
    {
     "data": {
      "text/plain": [
       "array([  3,   8,  15,  24,  35,  48,  63,  80,  99, 120, 143, 168])"
      ]
     },
     "execution_count": 80,
     "metadata": {},
     "output_type": "execute_result"
    }
   ],
   "source": [
    "arr1*arr2"
   ]
  },
  {
   "cell_type": "code",
   "execution_count": 81,
   "id": "ad13c0ff",
   "metadata": {},
   "outputs": [
    {
     "data": {
      "text/plain": [
       "array([ 2,  4,  6,  8, 10, 12, 14, 16, 18, 20, 22, 24])"
      ]
     },
     "execution_count": 81,
     "metadata": {},
     "output_type": "execute_result"
    }
   ],
   "source": [
    "arr1*2"
   ]
  },
  {
   "cell_type": "markdown",
   "id": "519f4e9f",
   "metadata": {},
   "source": [
    "## Divide"
   ]
  },
  {
   "cell_type": "code",
   "execution_count": 82,
   "id": "f7384be3",
   "metadata": {},
   "outputs": [
    {
     "data": {
      "text/plain": [
       "array([3.        , 2.        , 1.66666667, 1.5       , 1.4       ,\n",
       "       1.33333333, 1.28571429, 1.25      , 1.22222222, 1.2       ,\n",
       "       1.18181818, 1.16666667])"
      ]
     },
     "execution_count": 82,
     "metadata": {},
     "output_type": "execute_result"
    }
   ],
   "source": [
    "np.divide(arr2,arr1)"
   ]
  },
  {
   "cell_type": "code",
   "execution_count": 83,
   "id": "890e6c6f",
   "metadata": {},
   "outputs": [
    {
     "data": {
      "text/plain": [
       "array([3.        , 2.        , 1.66666667, 1.5       , 1.4       ,\n",
       "       1.33333333, 1.28571429, 1.25      , 1.22222222, 1.2       ,\n",
       "       1.18181818, 1.16666667])"
      ]
     },
     "execution_count": 83,
     "metadata": {},
     "output_type": "execute_result"
    }
   ],
   "source": [
    "arr2/arr1"
   ]
  },
  {
   "cell_type": "markdown",
   "id": "5e1d3536",
   "metadata": {},
   "source": [
    "## Mod"
   ]
  },
  {
   "cell_type": "code",
   "execution_count": 84,
   "id": "8a539dbb",
   "metadata": {},
   "outputs": [
    {
     "data": {
      "text/plain": [
       "array([0, 0, 2, 2, 2, 2, 2, 2, 2, 2, 2, 2], dtype=int32)"
      ]
     },
     "execution_count": 84,
     "metadata": {},
     "output_type": "execute_result"
    }
   ],
   "source": [
    "np.mod(arr2,arr1)"
   ]
  },
  {
   "cell_type": "code",
   "execution_count": 85,
   "id": "e69efaa9",
   "metadata": {},
   "outputs": [
    {
     "data": {
      "text/plain": [
       "array([0, 0, 2, 2, 2, 2, 2, 2, 2, 2, 2, 2], dtype=int32)"
      ]
     },
     "execution_count": 85,
     "metadata": {},
     "output_type": "execute_result"
    }
   ],
   "source": [
    "arr2%arr1"
   ]
  },
  {
   "cell_type": "markdown",
   "id": "d7e12586",
   "metadata": {},
   "source": [
    "## Exponentiation"
   ]
  },
  {
   "cell_type": "code",
   "execution_count": 86,
   "id": "dafbebcb",
   "metadata": {},
   "outputs": [
    {
     "data": {
      "text/plain": [
       "array([  9,  16,  25,  36,  49,  64,  81, 100, 121, 144, 169, 196],\n",
       "      dtype=int32)"
      ]
     },
     "execution_count": 86,
     "metadata": {},
     "output_type": "execute_result"
    }
   ],
   "source": [
    "arr2**2"
   ]
  },
  {
   "cell_type": "code",
   "execution_count": 87,
   "id": "3e7a507c",
   "metadata": {},
   "outputs": [
    {
     "data": {
      "text/plain": [
       "array([  9,  16,  25,  36,  49,  64,  81, 100, 121, 144, 169, 196],\n",
       "      dtype=int32)"
      ]
     },
     "execution_count": 87,
     "metadata": {},
     "output_type": "execute_result"
    }
   ],
   "source": [
    "np.power(arr2,2)"
   ]
  },
  {
   "cell_type": "markdown",
   "id": "7d3b25b0",
   "metadata": {},
   "source": [
    "## Sqrt"
   ]
  },
  {
   "cell_type": "code",
   "execution_count": 89,
   "id": "835ceb38",
   "metadata": {},
   "outputs": [
    {
     "data": {
      "text/plain": [
       "array([1.73205081, 2.        , 2.23606798, 2.44948974, 2.64575131,\n",
       "       2.82842712, 3.        , 3.16227766, 3.31662479, 3.46410162,\n",
       "       3.60555128, 3.74165739])"
      ]
     },
     "execution_count": 89,
     "metadata": {},
     "output_type": "execute_result"
    }
   ],
   "source": [
    "np.sqrt(arr2)"
   ]
  },
  {
   "cell_type": "markdown",
   "id": "993ac9bf",
   "metadata": {},
   "source": [
    "### Perform arithmetic operations on arrays of different shape using broadcasting"
   ]
  },
  {
   "cell_type": "markdown",
   "id": "d663cccf",
   "metadata": {},
   "source": [
    "#### In this case smaller shaped array can be expanded to match the large array by using simple arrays"
   ]
  },
  {
   "cell_type": "code",
   "execution_count": 91,
   "id": "8bc88964",
   "metadata": {},
   "outputs": [
    {
     "data": {
      "text/plain": [
       "array([0, 1, 2])"
      ]
     },
     "execution_count": 91,
     "metadata": {},
     "output_type": "execute_result"
    }
   ],
   "source": [
    "arr2 = np.arange(0,3)\n",
    "arr2"
   ]
  },
  {
   "cell_type": "code",
   "execution_count": 93,
   "id": "85d99775",
   "metadata": {},
   "outputs": [
    {
     "data": {
      "text/plain": [
       "array([[73, 41, 28],\n",
       "       [21, 67, 48],\n",
       "       [84, 41, 95],\n",
       "       [57, 73, 31]])"
      ]
     },
     "execution_count": 93,
     "metadata": {},
     "output_type": "execute_result"
    }
   ],
   "source": [
    "arr3 = np.random.randint(0,100,12).reshape(4,3)\n",
    "arr3"
   ]
  },
  {
   "cell_type": "markdown",
   "id": "4ec67387",
   "metadata": {},
   "source": [
    "### Match the last dimensions of both arrays (if same then match first dimension of both arrays) if first dimensions do not match then expand upto the largest first dimension "
   ]
  },
  {
   "cell_type": "markdown",
   "id": "98ae1d62",
   "metadata": {},
   "source": [
    "### ex : A (3,3) B(1,3) => expand B(3,3) by taking B as\n",
    "### [1,2,3\n",
    "###  1,2,3\n",
    "###  1,2,3]   \n",
    "\n",
    "\n",
    "### if B is [1,2,3]"
   ]
  },
  {
   "cell_type": "code",
   "execution_count": 94,
   "id": "782ad855",
   "metadata": {},
   "outputs": [
    {
     "data": {
      "text/plain": [
       "array([[73, 42, 30],\n",
       "       [21, 68, 50],\n",
       "       [84, 42, 97],\n",
       "       [57, 74, 33]])"
      ]
     },
     "execution_count": 94,
     "metadata": {},
     "output_type": "execute_result"
    }
   ],
   "source": [
    "arr3+arr2"
   ]
  },
  {
   "cell_type": "code",
   "execution_count": 96,
   "id": "0a4da6e9",
   "metadata": {},
   "outputs": [
    {
     "data": {
      "text/plain": [
       "array([0, 1])"
      ]
     },
     "execution_count": 96,
     "metadata": {},
     "output_type": "execute_result"
    }
   ],
   "source": [
    "arr4 = np.arange(0,2)\n",
    "arr4"
   ]
  },
  {
   "cell_type": "code",
   "execution_count": 97,
   "id": "aa12e099",
   "metadata": {},
   "outputs": [
    {
     "ename": "ValueError",
     "evalue": "operands could not be broadcast together with shapes (2,) (4,3) ",
     "output_type": "error",
     "traceback": [
      "\u001b[1;31m---------------------------------------------------------------------------\u001b[0m",
      "\u001b[1;31mValueError\u001b[0m                                Traceback (most recent call last)",
      "Input \u001b[1;32mIn [97]\u001b[0m, in \u001b[0;36m<cell line: 1>\u001b[1;34m()\u001b[0m\n\u001b[1;32m----> 1\u001b[0m \u001b[43marr4\u001b[49m\u001b[38;5;241;43m+\u001b[39;49m\u001b[43marr3\u001b[49m\n",
      "\u001b[1;31mValueError\u001b[0m: operands could not be broadcast together with shapes (2,) (4,3) "
     ]
    }
   ],
   "source": [
    "arr4+arr3"
   ]
  },
  {
   "cell_type": "markdown",
   "id": "fa82581b",
   "metadata": {},
   "source": [
    "# Aggregate functions"
   ]
  },
  {
   "cell_type": "code",
   "execution_count": 115,
   "id": "73c127cb",
   "metadata": {},
   "outputs": [
    {
     "data": {
      "text/plain": [
       "array([10, 20, 30, 40, 50, 60, 70, 80, 90])"
      ]
     },
     "execution_count": 115,
     "metadata": {},
     "output_type": "execute_result"
    }
   ],
   "source": [
    "arr1 = np.arange(10,100,10)\n",
    "arr1"
   ]
  },
  {
   "cell_type": "code",
   "execution_count": 116,
   "id": "ee21aad6",
   "metadata": {},
   "outputs": [
    {
     "data": {
      "text/plain": [
       "450"
      ]
     },
     "execution_count": 116,
     "metadata": {},
     "output_type": "execute_result"
    }
   ],
   "source": [
    "arr1.sum()"
   ]
  },
  {
   "cell_type": "code",
   "execution_count": 120,
   "id": "d2504005",
   "metadata": {},
   "outputs": [],
   "source": [
    "arr2 = np.arange(1,5)"
   ]
  },
  {
   "cell_type": "code",
   "execution_count": 121,
   "id": "c72aae8c",
   "metadata": {},
   "outputs": [
    {
     "data": {
      "text/plain": [
       "24"
      ]
     },
     "execution_count": 121,
     "metadata": {},
     "output_type": "execute_result"
    }
   ],
   "source": [
    "np.prod(arr2)"
   ]
  },
  {
   "cell_type": "code",
   "execution_count": 109,
   "id": "441862fd",
   "metadata": {},
   "outputs": [
    {
     "data": {
      "text/plain": [
       "50.0"
      ]
     },
     "execution_count": 109,
     "metadata": {},
     "output_type": "execute_result"
    }
   ],
   "source": [
    "np.average(arr1)"
   ]
  },
  {
   "cell_type": "code",
   "execution_count": 110,
   "id": "844eae35",
   "metadata": {},
   "outputs": [
    {
     "data": {
      "text/plain": [
       "10"
      ]
     },
     "execution_count": 110,
     "metadata": {},
     "output_type": "execute_result"
    }
   ],
   "source": [
    "arr1.min()"
   ]
  },
  {
   "cell_type": "code",
   "execution_count": 111,
   "id": "8b4b5ef7",
   "metadata": {},
   "outputs": [
    {
     "data": {
      "text/plain": [
       "90"
      ]
     },
     "execution_count": 111,
     "metadata": {},
     "output_type": "execute_result"
    }
   ],
   "source": [
    "arr1.max()"
   ]
  },
  {
   "cell_type": "code",
   "execution_count": 112,
   "id": "a7bbd64e",
   "metadata": {},
   "outputs": [
    {
     "data": {
      "text/plain": [
       "50.0"
      ]
     },
     "execution_count": 112,
     "metadata": {},
     "output_type": "execute_result"
    }
   ],
   "source": [
    "arr1.mean()"
   ]
  },
  {
   "cell_type": "code",
   "execution_count": 113,
   "id": "e57083eb",
   "metadata": {},
   "outputs": [
    {
     "data": {
      "text/plain": [
       "25.81988897471611"
      ]
     },
     "execution_count": 113,
     "metadata": {},
     "output_type": "execute_result"
    }
   ],
   "source": [
    "arr1.std()"
   ]
  },
  {
   "cell_type": "code",
   "execution_count": 124,
   "id": "549bc45b",
   "metadata": {},
   "outputs": [
    {
     "data": {
      "text/plain": [
       "array([[ 10,  20,  30,  40],\n",
       "       [ 50,  60,  70,  80],\n",
       "       [ 90, 100, 110, 120]])"
      ]
     },
     "execution_count": 124,
     "metadata": {},
     "output_type": "execute_result"
    }
   ],
   "source": [
    "arr2d = np.arange(10,130,10).reshape(3,4)\n",
    "arr2d"
   ]
  },
  {
   "cell_type": "code",
   "execution_count": 125,
   "id": "ec270a0f",
   "metadata": {},
   "outputs": [
    {
     "data": {
      "text/plain": [
       "780"
      ]
     },
     "execution_count": 125,
     "metadata": {},
     "output_type": "execute_result"
    }
   ],
   "source": [
    "arr2d.sum()"
   ]
  },
  {
   "cell_type": "markdown",
   "id": "cd57bc3a",
   "metadata": {},
   "source": [
    "## Axis = 1 Row"
   ]
  },
  {
   "cell_type": "code",
   "execution_count": 129,
   "id": "aef56fe6",
   "metadata": {},
   "outputs": [
    {
     "data": {
      "text/plain": [
       "array([100, 260, 420])"
      ]
     },
     "execution_count": 129,
     "metadata": {},
     "output_type": "execute_result"
    }
   ],
   "source": [
    "arr2d.sum(axis=1)"
   ]
  },
  {
   "cell_type": "code",
   "execution_count": 131,
   "id": "32869d9b",
   "metadata": {},
   "outputs": [
    {
     "data": {
      "text/plain": [
       "array([ 25.,  65., 105.])"
      ]
     },
     "execution_count": 131,
     "metadata": {},
     "output_type": "execute_result"
    }
   ],
   "source": [
    "arr2d.mean(axis=1)"
   ]
  },
  {
   "cell_type": "code",
   "execution_count": 132,
   "id": "62d90eaa",
   "metadata": {},
   "outputs": [
    {
     "data": {
      "text/plain": [
       "array([   240000,  16800000, 118800000])"
      ]
     },
     "execution_count": 132,
     "metadata": {},
     "output_type": "execute_result"
    }
   ],
   "source": [
    "arr2d.prod(axis=1)"
   ]
  },
  {
   "cell_type": "markdown",
   "id": "ba970529",
   "metadata": {},
   "source": [
    "## Axis = 0 Column"
   ]
  },
  {
   "cell_type": "code",
   "execution_count": 128,
   "id": "49383eac",
   "metadata": {},
   "outputs": [
    {
     "data": {
      "text/plain": [
       "array([150, 180, 210, 240])"
      ]
     },
     "execution_count": 128,
     "metadata": {},
     "output_type": "execute_result"
    }
   ],
   "source": [
    "arr2d.sum(axis=0)"
   ]
  },
  {
   "cell_type": "code",
   "execution_count": 133,
   "id": "12b246b6",
   "metadata": {},
   "outputs": [
    {
     "data": {
      "text/plain": [
       "array([50., 60., 70., 80.])"
      ]
     },
     "execution_count": 133,
     "metadata": {},
     "output_type": "execute_result"
    }
   ],
   "source": [
    "arr2d.mean(axis=0)"
   ]
  },
  {
   "cell_type": "code",
   "execution_count": 134,
   "id": "1effcf76",
   "metadata": {},
   "outputs": [
    {
     "data": {
      "text/plain": [
       "array([ 45000, 120000, 231000, 384000])"
      ]
     },
     "execution_count": 134,
     "metadata": {},
     "output_type": "execute_result"
    }
   ],
   "source": [
    "arr2d.prod(axis=0)"
   ]
  },
  {
   "cell_type": "markdown",
   "id": "38a0e23d",
   "metadata": {},
   "source": [
    "# Get Unique elements and their count"
   ]
  },
  {
   "cell_type": "code",
   "execution_count": 135,
   "id": "8d669445",
   "metadata": {},
   "outputs": [],
   "source": [
    "arr=np.array([1,2,1,3,2,4,3,5,6,4,7])"
   ]
  },
  {
   "cell_type": "code",
   "execution_count": 136,
   "id": "ff40e69f",
   "metadata": {},
   "outputs": [
    {
     "data": {
      "text/plain": [
       "array([1, 2, 3, 4, 5, 6, 7])"
      ]
     },
     "execution_count": 136,
     "metadata": {},
     "output_type": "execute_result"
    }
   ],
   "source": [
    "np.unique(arr)"
   ]
  },
  {
   "cell_type": "code",
   "execution_count": 138,
   "id": "8e6d63ec",
   "metadata": {},
   "outputs": [
    {
     "data": {
      "text/plain": [
       "(array([1, 2, 3, 4, 5, 6, 7]),\n",
       " array([ 0,  1,  3,  5,  7,  8, 10], dtype=int64),\n",
       " array([2, 2, 2, 2, 1, 1, 1], dtype=int64))"
      ]
     },
     "execution_count": 138,
     "metadata": {},
     "output_type": "execute_result"
    }
   ],
   "source": [
    "np.unique(arr,return_counts=True,return_index=True)"
   ]
  },
  {
   "cell_type": "code",
   "execution_count": 149,
   "id": "8599e4ff",
   "metadata": {},
   "outputs": [],
   "source": [
    "arr2d =np.array([[1,2,1],[1,2,1],[3,4,3]])"
   ]
  },
  {
   "cell_type": "code",
   "execution_count": 150,
   "id": "2b3dc043",
   "metadata": {},
   "outputs": [
    {
     "data": {
      "text/plain": [
       "array([1, 2, 3, 4])"
      ]
     },
     "execution_count": 150,
     "metadata": {},
     "output_type": "execute_result"
    }
   ],
   "source": [
    "np.unique(arr2d)"
   ]
  },
  {
   "cell_type": "code",
   "execution_count": 151,
   "id": "895c3915",
   "metadata": {},
   "outputs": [
    {
     "data": {
      "text/plain": [
       "(array([1, 2, 3, 4]),\n",
       " array([0, 1, 6, 7], dtype=int64),\n",
       " array([4, 2, 2, 1], dtype=int64))"
      ]
     },
     "execution_count": 151,
     "metadata": {},
     "output_type": "execute_result"
    }
   ],
   "source": [
    "np.unique(arr2d,return_index=True,return_counts=True)"
   ]
  },
  {
   "cell_type": "markdown",
   "id": "2900e531",
   "metadata": {},
   "source": [
    "### Column wise unique elements"
   ]
  },
  {
   "cell_type": "code",
   "execution_count": 152,
   "id": "5c0ab3fd",
   "metadata": {},
   "outputs": [
    {
     "data": {
      "text/plain": [
       "array([[1, 2],\n",
       "       [1, 2],\n",
       "       [3, 4]])"
      ]
     },
     "execution_count": 152,
     "metadata": {},
     "output_type": "execute_result"
    }
   ],
   "source": [
    "np.unique(arr2d,axis=1)"
   ]
  },
  {
   "cell_type": "markdown",
   "id": "1308184d",
   "metadata": {},
   "source": [
    "### Row wise unique elements"
   ]
  },
  {
   "cell_type": "code",
   "execution_count": 153,
   "id": "431cda9b",
   "metadata": {},
   "outputs": [
    {
     "data": {
      "text/plain": [
       "(array([[1, 2, 1],\n",
       "        [3, 4, 3]]),\n",
       " array([0, 2], dtype=int64),\n",
       " array([2, 1], dtype=int64))"
      ]
     },
     "execution_count": 153,
     "metadata": {},
     "output_type": "execute_result"
    }
   ],
   "source": [
    "np.unique(arr2d,axis=0,return_index=True,return_counts=True)"
   ]
  },
  {
   "cell_type": "markdown",
   "id": "f1add420",
   "metadata": {},
   "source": [
    "# Transpose "
   ]
  },
  {
   "cell_type": "markdown",
   "id": "ceeb4d43",
   "metadata": {},
   "source": [
    "## Transpose has 2 parammeters \n",
    "\n",
    "1) array\n",
    "\n",
    "2) axis(optional)"
   ]
  },
  {
   "cell_type": "markdown",
   "id": "a0bd5410",
   "metadata": {},
   "source": [
    "## transpose(axis(1,0)=>incase of 2D array || axis(1,0,2)=>incase of 3D array)"
   ]
  },
  {
   "cell_type": "markdown",
   "id": "8322e174",
   "metadata": {},
   "source": [
    "For 2D array ,\n",
    "\n",
    "    [[0,1,2],[3,4,5]] => shape(2,3) => indexed as 2->0 , 3->1\n",
    "    \n",
    "    So when using transpose if you put (1,0) in place of axis which specifies it will result in a 3X2 matrix\n",
    "\n"
   ]
  },
  {
   "cell_type": "raw",
   "id": "c96e69be",
   "metadata": {},
   "source": [
    "For 3D array,\n",
    "\n",
    "   [ [[0,1,2,3],\n",
    "    \n",
    "     [4,5,6,7],\n",
    "     \n",
    "     [8,9,10,11]],\n",
    "     \n",
    "     \n",
    "     \n",
    "    [ [4,5,6,7],\n",
    "     \n",
    "     [8,10,12,34],\n",
    "     \n",
    "     [9,1,3,2]] ]\n",
    "     \n",
    "     \n",
    "     Shape for the above matrix is (2,3,4) => indexed as 2->0, 3->1, 4->2\n",
    "     \n",
    "     So when using transpose if put (1,0,2) in place of axis which specifies it will result in (3,1,4) matrix\n",
    "     \n",
    "     \n",
    "     "
   ]
  },
  {
   "cell_type": "code",
   "execution_count": 156,
   "id": "6ae6a45d",
   "metadata": {},
   "outputs": [
    {
     "data": {
      "text/plain": [
       "array([[ 0,  1,  2,  3],\n",
       "       [ 4,  5,  6,  7],\n",
       "       [ 8,  9, 10, 11]])"
      ]
     },
     "execution_count": 156,
     "metadata": {},
     "output_type": "execute_result"
    }
   ],
   "source": [
    "arr2d = np.arange(0,12).reshape(3,4)\n",
    "arr2d"
   ]
  },
  {
   "cell_type": "code",
   "execution_count": 157,
   "id": "830c9f18",
   "metadata": {},
   "outputs": [
    {
     "data": {
      "text/plain": [
       "array([[ 0,  4,  8],\n",
       "       [ 1,  5,  9],\n",
       "       [ 2,  6, 10],\n",
       "       [ 3,  7, 11]])"
      ]
     },
     "execution_count": 157,
     "metadata": {},
     "output_type": "execute_result"
    }
   ],
   "source": [
    "np.transpose(arr2d,(1,0))"
   ]
  },
  {
   "cell_type": "code",
   "execution_count": 163,
   "id": "c3db7d6f",
   "metadata": {},
   "outputs": [
    {
     "data": {
      "text/plain": [
       "array([[0, 1],\n",
       "       [2, 3],\n",
       "       [4, 5]])"
      ]
     },
     "execution_count": 163,
     "metadata": {},
     "output_type": "execute_result"
    }
   ],
   "source": [
    "ar2d = np.arange(0,6).reshape(3,2)\n",
    "ar2d"
   ]
  },
  {
   "cell_type": "code",
   "execution_count": 169,
   "id": "0b3f147c",
   "metadata": {},
   "outputs": [
    {
     "data": {
      "text/plain": [
       "array([[0, 2, 4],\n",
       "       [1, 3, 5]])"
      ]
     },
     "execution_count": 169,
     "metadata": {},
     "output_type": "execute_result"
    }
   ],
   "source": [
    "tr2d = np.transpose(ar2d,(1,0))\n",
    "tr2d"
   ]
  },
  {
   "cell_type": "code",
   "execution_count": 172,
   "id": "ac9ac004",
   "metadata": {},
   "outputs": [
    {
     "data": {
      "text/plain": [
       "(2, 3)"
      ]
     },
     "execution_count": 172,
     "metadata": {},
     "output_type": "execute_result"
    }
   ],
   "source": [
    "tr2d.shape"
   ]
  },
  {
   "cell_type": "markdown",
   "id": "e9973c7d",
   "metadata": {},
   "source": [
    "## Transpose using 3D array"
   ]
  },
  {
   "cell_type": "code",
   "execution_count": 173,
   "id": "24033673",
   "metadata": {},
   "outputs": [
    {
     "data": {
      "text/plain": [
       "array([[[ 0,  1,  2,  3],\n",
       "        [ 4,  5,  6,  7],\n",
       "        [ 8,  9, 10, 11]],\n",
       "\n",
       "       [[12, 13, 14, 15],\n",
       "        [16, 17, 18, 19],\n",
       "        [20, 21, 22, 23]]])"
      ]
     },
     "execution_count": 173,
     "metadata": {},
     "output_type": "execute_result"
    }
   ],
   "source": [
    "thd = np.arange(24).reshape(2,3,4)\n",
    "thd"
   ]
  },
  {
   "cell_type": "code",
   "execution_count": 181,
   "id": "d0576f6e",
   "metadata": {},
   "outputs": [
    {
     "data": {
      "text/plain": [
       "array([[[ 0, 12],\n",
       "        [ 4, 16],\n",
       "        [ 8, 20]],\n",
       "\n",
       "       [[ 1, 13],\n",
       "        [ 5, 17],\n",
       "        [ 9, 21]],\n",
       "\n",
       "       [[ 2, 14],\n",
       "        [ 6, 18],\n",
       "        [10, 22]],\n",
       "\n",
       "       [[ 3, 15],\n",
       "        [ 7, 19],\n",
       "        [11, 23]]])"
      ]
     },
     "execution_count": 181,
     "metadata": {},
     "output_type": "execute_result"
    }
   ],
   "source": [
    "thd.transpose(2,1,0)"
   ]
  },
  {
   "cell_type": "markdown",
   "id": "a03efcaf",
   "metadata": {},
   "source": [
    "## Move axis"
   ]
  },
  {
   "cell_type": "markdown",
   "id": "b1e9fb6d",
   "metadata": {},
   "source": [
    "Move axis takes 3 parameters,\n",
    "\n",
    "1)arrayname\n",
    "\n",
    "2)source (index of original array to be changed)\n",
    "\n",
    "3)destination (index to place the source index)"
   ]
  },
  {
   "cell_type": "markdown",
   "id": "56061775",
   "metadata": {},
   "source": [
    "ex;\n",
    "\n",
    "\n",
    "3D array =>  \n",
    "\n",
    "              array([[[ 0,  1,  2,  3],\n",
    "   \n",
    "                    [ 4,  5,  6,  7],\n",
    "       \n",
    "                    [ 8,  9, 10, 11]],\n",
    "                   \n",
    "                   [[12, 13, 14, 15],\n",
    "                    \n",
    "                    [16, 17, 18, 19],\n",
    "                    \n",
    "                    [20, 21, 22, 23]]]) => has dimension (2,3,4) => indexed as 2->0 ,3->1, 4->2\n",
    "\n",
    "specifying np.moveaxis(arr,0,-1) => index 0(2) has gone to index 2(2) \n",
    "\n",
    "The resultant array will have shape as (3,4,2)\n",
    "\n"
   ]
  },
  {
   "cell_type": "code",
   "execution_count": 196,
   "id": "934d35f9",
   "metadata": {},
   "outputs": [
    {
     "data": {
      "text/plain": [
       "array([[[ 0,  1,  2,  3],\n",
       "        [ 4,  5,  6,  7],\n",
       "        [ 8,  9, 10, 11]],\n",
       "\n",
       "       [[12, 13, 14, 15],\n",
       "        [16, 17, 18, 19],\n",
       "        [20, 21, 22, 23]]])"
      ]
     },
     "execution_count": 196,
     "metadata": {},
     "output_type": "execute_result"
    }
   ],
   "source": [
    "arr3d = np.arange(24).reshape(2,3,4)\n",
    "arr3d"
   ]
  },
  {
   "cell_type": "code",
   "execution_count": 197,
   "id": "6b917a6c",
   "metadata": {},
   "outputs": [
    {
     "data": {
      "text/plain": [
       "array([[[ 0, 12],\n",
       "        [ 1, 13],\n",
       "        [ 2, 14],\n",
       "        [ 3, 15]],\n",
       "\n",
       "       [[ 4, 16],\n",
       "        [ 5, 17],\n",
       "        [ 6, 18],\n",
       "        [ 7, 19]],\n",
       "\n",
       "       [[ 8, 20],\n",
       "        [ 9, 21],\n",
       "        [10, 22],\n",
       "        [11, 23]]])"
      ]
     },
     "execution_count": 197,
     "metadata": {},
     "output_type": "execute_result"
    }
   ],
   "source": [
    "np.moveaxis(arr3d,0,-1)"
   ]
  },
  {
   "cell_type": "markdown",
   "id": "417ec459",
   "metadata": {},
   "source": [
    "## Swapaxes"
   ]
  },
  {
   "cell_type": "markdown",
   "id": "52abcf6f",
   "metadata": {},
   "source": [
    "Swap axes 2 parameters\n",
    "\n",
    "1) array\n",
    "\n",
    "2) index to swap -> i1\n",
    "\n",
    "3) index with which i1 has to be swapped"
   ]
  },
  {
   "cell_type": "markdown",
   "id": "5ed1e258",
   "metadata": {},
   "source": [
    "ex : 3D array with dimensions (2,3,4)\n",
    "    \n",
    "    after swapaxes(0,2) => 2 is swapped with 4 => resulting shape (4,3,2)"
   ]
  },
  {
   "cell_type": "code",
   "execution_count": 198,
   "id": "297ac2f4",
   "metadata": {},
   "outputs": [
    {
     "data": {
      "text/plain": [
       "array([[[ 0, 12],\n",
       "        [ 4, 16],\n",
       "        [ 8, 20]],\n",
       "\n",
       "       [[ 1, 13],\n",
       "        [ 5, 17],\n",
       "        [ 9, 21]],\n",
       "\n",
       "       [[ 2, 14],\n",
       "        [ 6, 18],\n",
       "        [10, 22]],\n",
       "\n",
       "       [[ 3, 15],\n",
       "        [ 7, 19],\n",
       "        [11, 23]]])"
      ]
     },
     "execution_count": 198,
     "metadata": {},
     "output_type": "execute_result"
    }
   ],
   "source": [
    "np.swapaxes(arr3d,0,2)"
   ]
  },
  {
   "cell_type": "markdown",
   "id": "0de3ddb0",
   "metadata": {},
   "source": [
    "# Reversing an array"
   ]
  },
  {
   "cell_type": "code",
   "execution_count": 199,
   "id": "f4def594",
   "metadata": {},
   "outputs": [
    {
     "data": {
      "text/plain": [
       "array([0, 1, 2, 3, 4, 5, 6, 7, 8, 9])"
      ]
     },
     "execution_count": 199,
     "metadata": {},
     "output_type": "execute_result"
    }
   ],
   "source": [
    "arr1d =np.arange(10)\n",
    "arr1d"
   ]
  },
  {
   "cell_type": "code",
   "execution_count": 200,
   "id": "0aeb9053",
   "metadata": {},
   "outputs": [
    {
     "data": {
      "text/plain": [
       "array([9, 8, 7, 6, 5, 4, 3, 2, 1, 0])"
      ]
     },
     "execution_count": 200,
     "metadata": {},
     "output_type": "execute_result"
    }
   ],
   "source": [
    "arr1d[::-1]"
   ]
  },
  {
   "cell_type": "markdown",
   "id": "ab020b8d",
   "metadata": {},
   "source": [
    "#### Using flip"
   ]
  },
  {
   "cell_type": "markdown",
   "id": "40782a87",
   "metadata": {},
   "source": [
    "Flip takes in parameter axis:\n",
    "\n",
    "1) axis=0 => flip vertically\n",
    "\n",
    "2) axis=1 => flip horizontally\n"
   ]
  },
  {
   "cell_type": "code",
   "execution_count": 229,
   "id": "367425d3",
   "metadata": {},
   "outputs": [
    {
     "data": {
      "text/plain": [
       "array([9, 8, 7, 6, 5, 4, 3, 2, 1, 0])"
      ]
     },
     "execution_count": 229,
     "metadata": {},
     "output_type": "execute_result"
    }
   ],
   "source": [
    "np.flip(arr1d)"
   ]
  },
  {
   "cell_type": "code",
   "execution_count": 230,
   "id": "23b192b2",
   "metadata": {},
   "outputs": [
    {
     "data": {
      "text/plain": [
       "array([[0, 1, 2],\n",
       "       [3, 4, 5],\n",
       "       [6, 7, 8]])"
      ]
     },
     "execution_count": 230,
     "metadata": {},
     "output_type": "execute_result"
    }
   ],
   "source": [
    "arr2d = np.arange(0,9).reshape(3,3)\n",
    "arr2d"
   ]
  },
  {
   "cell_type": "markdown",
   "id": "d7e17f26",
   "metadata": {},
   "source": [
    "For 2D array:\n",
    "    \n",
    "    if dimension(3,2) => indexed as (0,1)\n",
    "    \n",
    "    flip(arr,0) => flip the array wrt 3(row)\n",
    "    flip(arr,1) => flip the array wrt 2(col)\n",
    "    \n",
    "    "
   ]
  },
  {
   "cell_type": "code",
   "execution_count": 240,
   "id": "25710831",
   "metadata": {},
   "outputs": [
    {
     "data": {
      "text/plain": [
       "array([[8, 7, 6],\n",
       "       [5, 4, 3],\n",
       "       [2, 1, 0]])"
      ]
     },
     "execution_count": 240,
     "metadata": {},
     "output_type": "execute_result"
    }
   ],
   "source": [
    "np.flip(arr2d)"
   ]
  },
  {
   "cell_type": "code",
   "execution_count": 233,
   "id": "11977542",
   "metadata": {},
   "outputs": [
    {
     "data": {
      "text/plain": [
       "array([[6, 7, 8],\n",
       "       [3, 4, 5],\n",
       "       [0, 1, 2]])"
      ]
     },
     "execution_count": 233,
     "metadata": {},
     "output_type": "execute_result"
    }
   ],
   "source": [
    "np.flip(arr2d,0)"
   ]
  },
  {
   "cell_type": "code",
   "execution_count": 232,
   "id": "c6b31e7f",
   "metadata": {},
   "outputs": [
    {
     "data": {
      "text/plain": [
       "array([[2, 1, 0],\n",
       "       [5, 4, 3],\n",
       "       [8, 7, 6]])"
      ]
     },
     "execution_count": 232,
     "metadata": {},
     "output_type": "execute_result"
    }
   ],
   "source": [
    "np.flip(arr2d,1)"
   ]
  },
  {
   "cell_type": "code",
   "execution_count": 234,
   "id": "069561cd",
   "metadata": {},
   "outputs": [
    {
     "data": {
      "text/plain": [
       "array([[[ 0,  1],\n",
       "        [ 2,  3],\n",
       "        [ 4,  5]],\n",
       "\n",
       "       [[ 6,  7],\n",
       "        [ 8,  9],\n",
       "        [10, 11]]])"
      ]
     },
     "execution_count": 234,
     "metadata": {},
     "output_type": "execute_result"
    }
   ],
   "source": [
    "arr3d = np.arange(12).reshape(2,3,2)\n",
    "arr3d"
   ]
  },
  {
   "cell_type": "code",
   "execution_count": 235,
   "id": "99ba449a",
   "metadata": {},
   "outputs": [
    {
     "data": {
      "text/plain": [
       "array([[[ 6,  7],\n",
       "        [ 8,  9],\n",
       "        [10, 11]],\n",
       "\n",
       "       [[ 0,  1],\n",
       "        [ 2,  3],\n",
       "        [ 4,  5]]])"
      ]
     },
     "execution_count": 235,
     "metadata": {},
     "output_type": "execute_result"
    }
   ],
   "source": [
    "np.flip(arr3d,0)"
   ]
  },
  {
   "cell_type": "code",
   "execution_count": 236,
   "id": "f66651cf",
   "metadata": {},
   "outputs": [
    {
     "data": {
      "text/plain": [
       "array([[[ 4,  5],\n",
       "        [ 2,  3],\n",
       "        [ 0,  1]],\n",
       "\n",
       "       [[10, 11],\n",
       "        [ 8,  9],\n",
       "        [ 6,  7]]])"
      ]
     },
     "execution_count": 236,
     "metadata": {},
     "output_type": "execute_result"
    }
   ],
   "source": [
    "np.flip(arr3d,1)"
   ]
  },
  {
   "cell_type": "code",
   "execution_count": 237,
   "id": "47104694",
   "metadata": {
    "scrolled": true
   },
   "outputs": [
    {
     "data": {
      "text/plain": [
       "array([[[ 1,  0],\n",
       "        [ 3,  2],\n",
       "        [ 5,  4]],\n",
       "\n",
       "       [[ 7,  6],\n",
       "        [ 9,  8],\n",
       "        [11, 10]]])"
      ]
     },
     "execution_count": 237,
     "metadata": {},
     "output_type": "execute_result"
    }
   ],
   "source": [
    "np.flip(arr3d,2)"
   ]
  },
  {
   "cell_type": "code",
   "execution_count": 238,
   "id": "e68fd3a4",
   "metadata": {},
   "outputs": [
    {
     "data": {
      "text/plain": [
       "array([[[11, 10],\n",
       "        [ 9,  8],\n",
       "        [ 7,  6]],\n",
       "\n",
       "       [[ 5,  4],\n",
       "        [ 3,  2],\n",
       "        [ 1,  0]]])"
      ]
     },
     "execution_count": 238,
     "metadata": {},
     "output_type": "execute_result"
    }
   ],
   "source": [
    "np.flip(arr3d)"
   ]
  },
  {
   "cell_type": "markdown",
   "id": "e7e57fff",
   "metadata": {},
   "source": [
    "For 3D array:\n",
    "    \n",
    "    if dimension (2,3,4) => indexed as (0,1,2)\n",
    "    \n",
    "    flip(arr,0) => flip the array with respect to 2(at index 0)\n",
    "    flip(arr,1) => flip the array with respect to 3(at index 1 => row)\n",
    "    flip(arr,2) => flip the array with respect to 4(at index 2 => col)"
   ]
  }
 ],
 "metadata": {
  "kernelspec": {
   "display_name": "Python 3 (ipykernel)",
   "language": "python",
   "name": "python3"
  },
  "language_info": {
   "codemirror_mode": {
    "name": "ipython",
    "version": 3
   },
   "file_extension": ".py",
   "mimetype": "text/x-python",
   "name": "python",
   "nbconvert_exporter": "python",
   "pygments_lexer": "ipython3",
   "version": "3.9.12"
  }
 },
 "nbformat": 4,
 "nbformat_minor": 5
}
