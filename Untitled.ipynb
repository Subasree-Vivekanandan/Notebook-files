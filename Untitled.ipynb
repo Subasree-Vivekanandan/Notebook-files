{
 "cells": [
  {
   "cell_type": "code",
   "execution_count": 1,
   "id": "531d0cba",
   "metadata": {},
   "outputs": [],
   "source": [
    "import pandas as pd\n",
    "from openpyxl.workbook import Workbook\n"
   ]
  },
  {
   "cell_type": "code",
   "execution_count": 64,
   "id": "ddbb379e",
   "metadata": {},
   "outputs": [
    {
     "data": {
      "text/html": [
       "<div>\n",
       "<style scoped>\n",
       "    .dataframe tbody tr th:only-of-type {\n",
       "        vertical-align: middle;\n",
       "    }\n",
       "\n",
       "    .dataframe tbody tr th {\n",
       "        vertical-align: top;\n",
       "    }\n",
       "\n",
       "    .dataframe thead th {\n",
       "        text-align: right;\n",
       "    }\n",
       "</style>\n",
       "<table border=\"1\" class=\"dataframe\">\n",
       "  <thead>\n",
       "    <tr style=\"text-align: right;\">\n",
       "      <th></th>\n",
       "      <th>FullName</th>\n",
       "      <th>MobileNumber</th>\n",
       "      <th>City</th>\n",
       "      <th>DealerName</th>\n",
       "      <th>Could you tell me the reasons for score?</th>\n",
       "      <th>Unnamed: 14</th>\n",
       "      <th>Unnamed: 15</th>\n",
       "      <th>Unnamed: 16</th>\n",
       "      <th>To understand better we have a scale of 0 to 10, 0 means you will definitely not recommend and 10 means you will definitely recommend. How likely are you to recommend TVS iQube on a scale of 0 to 10?.</th>\n",
       "      <th>Customer Voice</th>\n",
       "    </tr>\n",
       "  </thead>\n",
       "  <tbody>\n",
       "    <tr>\n",
       "      <th>0</th>\n",
       "      <td>Chander Shaker Pandey</td>\n",
       "      <td>9314517261</td>\n",
       "      <td>Jaipur</td>\n",
       "      <td>TVS-K.S.Motors Pvt. Ltd.</td>\n",
       "      <td>The customer is happy with vehicle performance ,</td>\n",
       "      <td>getting accurate range</td>\n",
       "      <td>pick up also good</td>\n",
       "      <td>all the feature mode button is working fine</td>\n",
       "      <td>10</td>\n",
       "      <td>The customer is happy with vehicle performance...</td>\n",
       "    </tr>\n",
       "  </tbody>\n",
       "</table>\n",
       "</div>"
      ],
      "text/plain": [
       "                FullName  MobileNumber    City                DealerName  \\\n",
       "0  Chander Shaker Pandey    9314517261  Jaipur  TVS-K.S.Motors Pvt. Ltd.   \n",
       "\n",
       "           Could you tell me the reasons for score?              Unnamed: 14  \\\n",
       "0  The customer is happy with vehicle performance ,  getting accurate range    \n",
       "\n",
       "          Unnamed: 15                                   Unnamed: 16  \\\n",
       "0  pick up also good   all the feature mode button is working fine    \n",
       "\n",
       "   To understand better we have a scale of 0 to 10, 0 means you will definitely not recommend and 10 means you will definitely recommend. How likely are you to recommend TVS iQube on a scale of 0 to 10?.   \\\n",
       "0                                                 10                                                                                                                                                           \n",
       "\n",
       "                                      Customer Voice  \n",
       "0  The customer is happy with vehicle performance...  "
      ]
     },
     "execution_count": 64,
     "metadata": {},
     "output_type": "execute_result"
    }
   ],
   "source": [
    "file_loc='Rawsheet.xlsx'\n",
    "df = pd.read_excel(file_loc)[['FullName','MobileNumber','City','DealerName', 'Could you tell me the reasons for score?','Unnamed: 14','Unnamed: 15','Unnamed: 16','To understand better we have a scale of 0 to 10, 0 means you will definitely not recommend and 10 means you will definitely recommend. How likely are you to recommend TVS iQube on a scale of 0 to 10?. ']]\n",
    "\n",
    "df=df.loc[(df['FullName']=='Chander Shaker Pandey')]\n",
    "df['Customer Voice'] =df[['Could you tell me the reasons for score?','Unnamed: 14','Unnamed: 15','Unnamed: 16']].agg(','.join,axis=1)\n",
    "#df=(df.set_index(['FullName']).apply(lambda x: x.str.split(',').explode()).reset_index())\n",
    "df"
   ]
  },
  {
   "cell_type": "code",
   "execution_count": null,
   "id": "a9452c62",
   "metadata": {},
   "outputs": [],
   "source": []
  },
  {
   "cell_type": "code",
   "execution_count": null,
   "id": "3c7cd523",
   "metadata": {},
   "outputs": [],
   "source": []
  }
 ],
 "metadata": {
  "kernelspec": {
   "display_name": "Python 3 (ipykernel)",
   "language": "python",
   "name": "python3"
  },
  "language_info": {
   "codemirror_mode": {
    "name": "ipython",
    "version": 3
   },
   "file_extension": ".py",
   "mimetype": "text/x-python",
   "name": "python",
   "nbconvert_exporter": "python",
   "pygments_lexer": "ipython3",
   "version": "3.9.12"
  }
 },
 "nbformat": 4,
 "nbformat_minor": 5
}
